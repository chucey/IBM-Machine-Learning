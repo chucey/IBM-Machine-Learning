{
 "cells": [
  {
   "cell_type": "markdown",
   "metadata": {
    "collapsed": true
   },
   "source": [
    "# Machine Learning: Deep Learning"
   ]
  },
  {
   "cell_type": "markdown",
   "metadata": {},
   "source": [
    "This notebook highlights the steps taken to train several neural networks and comparing the results of each model.\n"
   ]
  },
  {
   "attachments": {
    "image.png": {
     "image/png": "[encoded data removed]"
    }
   },
   "cell_type": "markdown",
   "metadata": {},
   "source": [
    "## The Data\n",
    "\n",
    "The `fashion_mnist` dataset will be used. This is a keras dataset of 60,000 28 x 28 grayscale images of 10 fashion categories, along with a test set of 10,000 images.\n",
    "\n",
    "Please see the classes below:\n",
    "\n",
    "![image.png](attachment:image.png)"
   ]
  },
  {
   "cell_type": "code",
   "execution_count": 35,
   "metadata": {},
   "outputs": [],
   "source": [
    "# Importing libraries\n",
    "import tensorflow\n",
    "import keras\n",
    "from keras.datasets import fashion_mnist\n",
    "from keras.preprocessing.image import ImageDataGenerator\n",
    "from tensorflow.keras.utils import to_categorical\n",
    "from keras.models import Sequential\n",
    "from keras.layers import Dense, Dropout, Activation, Flatten\n",
    "from keras.layers import Conv2D, MaxPooling2D\n",
    "import matplotlib.pyplot as plt\n",
    "\n",
    "import pandas as pd\n",
    "import numpy as np"
   ]
  },
  {
   "cell_type": "code",
   "execution_count": 36,
   "metadata": {},
   "outputs": [
    {
     "name": "stdout",
     "output_type": "stream",
     "text": [
      "x_train shape (60000, 28, 28) \n",
      " y_train shape (60000,)\n"
     ]
    }
   ],
   "source": [
    "(x_train, y_train), (x_test, y_test) = fashion_mnist.load_data()\n",
    "print('x_train shape', x_train.shape, '\\n', 'y_train shape', y_train.shape)"
   ]
  },
  {
   "cell_type": "code",
   "execution_count": 37,
   "metadata": {},
   "outputs": [
    {
     "name": "stdout",
     "output_type": "stream",
     "text": [
      "5\n"
     ]
    },
    {
     "data": {
      "text/plain": [
       "<matplotlib.image.AxesImage at 0x7fe610357e50>"
      ]
     },
     "execution_count": 37,
     "metadata": {},
     "output_type": "execute_result"
    },
    {
     "data": {
      "image/png": "[encoded data removed]",
      "text/plain": [
       "<Figure size 432x288 with 1 Axes>"
      ]
     },
     "metadata": {
      "needs_background": "light"
     },
     "output_type": "display_data"
    }
   ],
   "source": [
    "# lets look at an image\n",
    "print(y_train[13])\n",
    "plt.imshow(x_train[200])"
   ]
  },
  {
   "cell_type": "code",
   "execution_count": null,
   "metadata": {},
   "outputs": [],
   "source": []
  },
  {
   "cell_type": "code",
   "execution_count": 38,
   "metadata": {},
   "outputs": [],
   "source": [
    "num_classes = 10\n",
    "\n",
    "y_train = tensorflow.keras.utils.to_categorical(y_train, num_classes)\n",
    "y_test = tensorflow.keras.utils.to_categorical(y_test, num_classes)\n"
   ]
  },
  {
   "cell_type": "code",
   "execution_count": 39,
   "metadata": {},
   "outputs": [],
   "source": [
    "# scale the data\n",
    "x_train = x_train /255\n",
    "x_test = x_test/255"
   ]
  },
  {
   "cell_type": "markdown",
   "metadata": {},
   "source": [
    "## Deep Learning\n",
    "\n",
    "The goal of this analysis is to build three deep learning models and compare how well these models perform at identifying images. The metrics used to compare model performance were loss and validation accuracy. \n",
    "\n",
    "The loss metric will quantify how well each model’s loss function was reduced. Subsequently, the validation accuracy metric will quantify well each model performed at accurately classifying images in the testing dataset.\n"
   ]
  },
  {
   "cell_type": "markdown",
   "metadata": {},
   "source": [
    "### Model 1\n",
    "The first deep learning model is as follows:\n",
    "\n",
    "conv -> maxpool -> flatten -> dense -> final classification\n",
    "\n",
    "This model consists of:\n",
    "* 1 convolution layer\n",
    "* 1 max pooling layer\n",
    "* 1 dense layer and\n",
    "* The final classification layer\n",
    "\n",
    "This model also has the following hyperparameters:\n",
    "* The convolution depth will be set to 8\n",
    "* The kernel will be (3,3)\n",
    "* the stride will be (2,2)\n",
    "* Max pooling is (2,2)\n",
    "* Dense layer 1 has 512 nodes\n",
    "\n"
   ]
  },
  {
   "cell_type": "code",
   "execution_count": 40,
   "metadata": {},
   "outputs": [
    {
     "data": {
      "text/plain": [
       "(28, 28)"
      ]
     },
     "execution_count": 40,
     "metadata": {},
     "output_type": "execute_result"
    }
   ],
   "source": [
    "x_train.shape[1:]"
   ]
  },
  {
   "cell_type": "code",
   "execution_count": 46,
   "metadata": {},
   "outputs": [
    {
     "name": "stdout",
     "output_type": "stream",
     "text": [
      "Model: \"sequential_12\"\n",
      "_________________________________________________________________\n",
      " Layer (type)                Output Shape              Param #   \n",
      "=================================================================\n",
      " conv2d_13 (Conv2D)          (None, 14, 14, 8)         80        \n",
      "                                                                 \n",
      " activation_30 (Activation)  (None, 14, 14, 8)         0         \n",
      "                                                                 \n",
      " max_pooling2d_9 (MaxPooling  (None, 7, 7, 8)          0         \n",
      " 2D)                                                             \n",
      "                                                                 \n",
      " dropout_18 (Dropout)        (None, 7, 7, 8)           0         \n",
      "                                                                 \n",
      " flatten_9 (Flatten)         (None, 392)               0         \n",
      "                                                                 \n",
      " dense_18 (Dense)            (None, 512)               201216    \n",
      "                                                                 \n",
      " activation_31 (Activation)  (None, 512)               0         \n",
      "                                                                 \n",
      " dropout_19 (Dropout)        (None, 512)               0         \n",
      "                                                                 \n",
      " dense_19 (Dense)            (None, 10)                5130      \n",
      "                                                                 \n",
      " activation_32 (Activation)  (None, 10)                0         \n",
      "                                                                 \n",
      "=================================================================\n",
      "Total params: 206,426\n",
      "Trainable params: 206,426\n",
      "Non-trainable params: 0\n",
      "_________________________________________________________________\n"
     ]
    }
   ],
   "source": [
    "model_1 = Sequential()\n",
    "\n",
    "model_1.add(Conv2D(8, (3,3), strides = (2,2), padding = 'same',\n",
    "                 input_shape=(28,28,1)))\n",
    "model_1.add(Activation('relu'))\n",
    "\n",
    "model_1.add(MaxPooling2D(pool_size=(2,2)))\n",
    "model_1.add(Dropout(0.25))\n",
    "\n",
    "model_1.add(Flatten())\n",
    "model_1.add(Dense(512))\n",
    "model_1.add(Activation('relu'))\n",
    "model_1.add(Dropout(0.25))\n",
    "model_1.add(Dense(num_classes))\n",
    "model_1.add(Activation('softmax'))\n",
    "\n",
    "model_1.summary()\n",
    "\n"
   ]
  },
  {
   "cell_type": "code",
   "execution_count": 42,
   "metadata": {},
   "outputs": [
    {
     "name": "stdout",
     "output_type": "stream",
     "text": [
      "Epoch 1/10\n",
      "1875/1875 [==============================] - 23s 12ms/step - loss: 0.6236 - accuracy: 0.7752 - val_loss: 0.4697 - val_accuracy: 0.8301\n",
      "Epoch 2/10\n",
      "1875/1875 [==============================] - 22s 12ms/step - loss: 0.4689 - accuracy: 0.8313 - val_loss: 0.4116 - val_accuracy: 0.8515\n",
      "Epoch 3/10\n",
      "1875/1875 [==============================] - 22s 12ms/step - loss: 0.4273 - accuracy: 0.8454 - val_loss: 0.3937 - val_accuracy: 0.8591\n",
      "Epoch 4/10\n",
      "1875/1875 [==============================] - 22s 12ms/step - loss: 0.4020 - accuracy: 0.8556 - val_loss: 0.3701 - val_accuracy: 0.8690\n",
      "Epoch 5/10\n",
      "1875/1875 [==============================] - 22s 12ms/step - loss: 0.3875 - accuracy: 0.8608 - val_loss: 0.3560 - val_accuracy: 0.8722\n",
      "Epoch 6/10\n",
      "1875/1875 [==============================] - 22s 12ms/step - loss: 0.3722 - accuracy: 0.8656 - val_loss: 0.3464 - val_accuracy: 0.8771\n",
      "Epoch 7/10\n",
      "1875/1875 [==============================] - 22s 12ms/step - loss: 0.3634 - accuracy: 0.8711 - val_loss: 0.3379 - val_accuracy: 0.8810\n",
      "Epoch 8/10\n",
      "1875/1875 [==============================] - 22s 12ms/step - loss: 0.3581 - accuracy: 0.8723 - val_loss: 0.3369 - val_accuracy: 0.8807\n",
      "Epoch 9/10\n",
      "1875/1875 [==============================] - 22s 12ms/step - loss: 0.3520 - accuracy: 0.8757 - val_loss: 0.3346 - val_accuracy: 0.8816\n",
      "Epoch 10/10\n",
      "1875/1875 [==============================] - 22s 12ms/step - loss: 0.3497 - accuracy: 0.8764 - val_loss: 0.3339 - val_accuracy: 0.8803\n"
     ]
    }
   ],
   "source": [
    "batch_size =32 \n",
    "opt = tensorflow.keras.optimizers.RMSprop(lr=0.0005, decay=1e-6)\n",
    "\n",
    "model_1.compile(loss = 'categorical_crossentropy',\n",
    "               optimizer = opt,\n",
    "               metrics = ['accuracy'])\n",
    "\n",
    "hist_1 = model_1.fit(x_train, y_train,\n",
    "           batch_size = batch_size,\n",
    "           epochs = 10,\n",
    "           validation_data= (x_test, y_test),\n",
    "           shuffle = True)\n",
    "\n"
   ]
  },
  {
   "cell_type": "markdown",
   "metadata": {},
   "source": [
    "### Model 2\n",
    "The second model is as follows:\n",
    "\n",
    "conv -> conv -> maxpool -> flatten -> dense -> final classification\n",
    "\n",
    "This model is comprised of:\n",
    "\n",
    "* 2 convolution layers\n",
    "* 1 max pooling layer\n",
    "* 1 dense layer\n",
    "* The final classification layer\n",
    "\n",
    "This model also has the following hyperparameters:\n",
    "\n",
    "* The first convolution depth will be set to 8\n",
    "* the second convolution depth is 16\n",
    "* The kernel will be (3,3)\n",
    "* the stride will be (2,2)\n",
    "* Max pooling is (2,2)\n",
    "* Dense layer 1 has 512 nodes\n"
   ]
  },
  {
   "cell_type": "code",
   "execution_count": 49,
   "metadata": {},
   "outputs": [
    {
     "name": "stdout",
     "output_type": "stream",
     "text": [
      "Model: \"sequential_13\"\n",
      "_________________________________________________________________\n",
      " Layer (type)                Output Shape              Param #   \n",
      "=================================================================\n",
      " conv2d_14 (Conv2D)          (None, 14, 14, 8)         80        \n",
      "                                                                 \n",
      " activation_33 (Activation)  (None, 14, 14, 8)         0         \n",
      "                                                                 \n",
      " conv2d_15 (Conv2D)          (None, 7, 7, 16)          1168      \n",
      "                                                                 \n",
      " activation_34 (Activation)  (None, 7, 7, 16)          0         \n",
      "                                                                 \n",
      " max_pooling2d_10 (MaxPoolin  (None, 3, 3, 16)         0         \n",
      " g2D)                                                            \n",
      "                                                                 \n",
      " dropout_20 (Dropout)        (None, 3, 3, 16)          0         \n",
      "                                                                 \n",
      " flatten_10 (Flatten)        (None, 144)               0         \n",
      "                                                                 \n",
      " dense_20 (Dense)            (None, 512)               74240     \n",
      "                                                                 \n",
      " activation_35 (Activation)  (None, 512)               0         \n",
      "                                                                 \n",
      " dropout_21 (Dropout)        (None, 512)               0         \n",
      "                                                                 \n",
      " dense_21 (Dense)            (None, 10)                5130      \n",
      "                                                                 \n",
      " activation_36 (Activation)  (None, 10)                0         \n",
      "                                                                 \n",
      "=================================================================\n",
      "Total params: 80,618\n",
      "Trainable params: 80,618\n",
      "Non-trainable params: 0\n",
      "_________________________________________________________________\n"
     ]
    }
   ],
   "source": [
    "model_2 = Sequential()\n",
    "\n",
    "model_2.add(Conv2D(8, (3,3), strides = (2,2), padding = 'same',\n",
    "                 input_shape=(28,28,1)))\n",
    "model_2.add(Activation('relu'))\n",
    "\n",
    "model_2.add(Conv2D(16, (3,3), strides = (2,2), padding = 'same'))\n",
    "model_2.add(Activation('relu'))\n",
    "\n",
    "model_2.add(MaxPooling2D(pool_size=(2,2)))\n",
    "model_2.add(Dropout(0.25))\n",
    "\n",
    "model_2.add(Flatten())\n",
    "model_2.add(Dense(512))\n",
    "model_2.add(Activation('relu'))\n",
    "model_2.add(Dropout(0.25))\n",
    "model_2.add(Dense(num_classes))\n",
    "model_2.add(Activation('softmax'))\n",
    "\n",
    "model_2.summary()"
   ]
  },
  {
   "cell_type": "code",
   "execution_count": 48,
   "metadata": {},
   "outputs": [
    {
     "name": "stdout",
     "output_type": "stream",
     "text": [
      "Epoch 1/10\n",
      "1875/1875 [==============================] - 18s 9ms/step - loss: 0.7662 - accuracy: 0.7225 - val_loss: 0.5344 - val_accuracy: 0.8095\n",
      "Epoch 2/10\n",
      "1875/1875 [==============================] - 17s 9ms/step - loss: 0.5423 - accuracy: 0.8048 - val_loss: 0.4618 - val_accuracy: 0.8341\n",
      "Epoch 3/10\n",
      "1875/1875 [==============================] - 18s 9ms/step - loss: 0.4860 - accuracy: 0.8244 - val_loss: 0.4202 - val_accuracy: 0.8475\n",
      "Epoch 4/10\n",
      "1875/1875 [==============================] - 18s 9ms/step - loss: 0.4520 - accuracy: 0.8337 - val_loss: 0.4090 - val_accuracy: 0.8527\n",
      "Epoch 5/10\n",
      "1875/1875 [==============================] - 18s 9ms/step - loss: 0.4323 - accuracy: 0.8424 - val_loss: 0.3960 - val_accuracy: 0.8559\n",
      "Epoch 6/10\n",
      "1875/1875 [==============================] - 18s 9ms/step - loss: 0.4190 - accuracy: 0.8477 - val_loss: 0.3816 - val_accuracy: 0.8648\n",
      "Epoch 7/10\n",
      "1875/1875 [==============================] - 18s 9ms/step - loss: 0.4102 - accuracy: 0.8524 - val_loss: 0.3777 - val_accuracy: 0.8646\n",
      "Epoch 8/10\n",
      "1875/1875 [==============================] - 18s 9ms/step - loss: 0.3996 - accuracy: 0.8547 - val_loss: 0.3632 - val_accuracy: 0.8679\n",
      "Epoch 9/10\n",
      "1875/1875 [==============================] - 17s 9ms/step - loss: 0.3922 - accuracy: 0.8576 - val_loss: 0.3622 - val_accuracy: 0.8700\n",
      "Epoch 10/10\n",
      "1875/1875 [==============================] - 18s 9ms/step - loss: 0.3927 - accuracy: 0.8587 - val_loss: 0.3582 - val_accuracy: 0.8720\n"
     ]
    }
   ],
   "source": [
    "model_2.compile(loss = 'categorical_crossentropy',\n",
    "               optimizer = opt,\n",
    "               metrics = ['accuracy'])\n",
    "\n",
    "hist_2 = model_2.fit(x_train, y_train,\n",
    "           batch_size = batch_size,\n",
    "           epochs = 10,\n",
    "           validation_data= (x_test, y_test),\n",
    "           shuffle = True)"
   ]
  },
  {
   "cell_type": "markdown",
   "metadata": {},
   "source": [
    "### Model 3\n",
    "The third model is as follows\n",
    "\n",
    "conv ->  maxpool -> flatten -> dense -> dense -> dense -> final classification\n",
    "\n",
    "This model consists of:\n",
    "* 1 convolution layer\n",
    "* 1 max pooling layer\n",
    "* 3 dense layer and\n",
    "* The final classification layer\n",
    "\n",
    "This model uses the following hyperparameters:\n",
    "\n",
    "* The convolution depth will be set to 8\n",
    "* The kernel will be 3 x 3 \n",
    "* the stride will be (2,2)\n",
    "* Max pooling is (2,2)\n",
    "* Dense layer 1 has 512 nodes\n",
    "* Dense layer 2 has 256 nodes\n",
    "* Dense layer 3 has 128 nodes\n"
   ]
  },
  {
   "cell_type": "code",
   "execution_count": 54,
   "metadata": {},
   "outputs": [
    {
     "name": "stdout",
     "output_type": "stream",
     "text": [
      "Model: \"sequential_18\"\n",
      "_________________________________________________________________\n",
      " Layer (type)                Output Shape              Param #   \n",
      "=================================================================\n",
      " conv2d_27 (Conv2D)          (None, 14, 14, 8)         80        \n",
      "                                                                 \n",
      " activation_52 (Activation)  (None, 14, 14, 8)         0         \n",
      "                                                                 \n",
      " max_pooling2d_15 (MaxPoolin  (None, 7, 7, 8)          0         \n",
      " g2D)                                                            \n",
      "                                                                 \n",
      " dropout_30 (Dropout)        (None, 7, 7, 8)           0         \n",
      "                                                                 \n",
      " flatten_13 (Flatten)        (None, 392)               0         \n",
      "                                                                 \n",
      " dense_28 (Dense)            (None, 512)               201216    \n",
      "                                                                 \n",
      " activation_53 (Activation)  (None, 512)               0         \n",
      "                                                                 \n",
      " dropout_31 (Dropout)        (None, 512)               0         \n",
      "                                                                 \n",
      " dense_29 (Dense)            (None, 256)               131328    \n",
      "                                                                 \n",
      " activation_54 (Activation)  (None, 256)               0         \n",
      "                                                                 \n",
      " dropout_32 (Dropout)        (None, 256)               0         \n",
      "                                                                 \n",
      " dense_30 (Dense)            (None, 128)               32896     \n",
      "                                                                 \n",
      " activation_55 (Activation)  (None, 128)               0         \n",
      "                                                                 \n",
      " dropout_33 (Dropout)        (None, 128)               0         \n",
      "                                                                 \n",
      " dense_31 (Dense)            (None, 10)                1290      \n",
      "                                                                 \n",
      " activation_56 (Activation)  (None, 10)                0         \n",
      "                                                                 \n",
      "=================================================================\n",
      "Total params: 366,810\n",
      "Trainable params: 366,810\n",
      "Non-trainable params: 0\n",
      "_________________________________________________________________\n"
     ]
    }
   ],
   "source": [
    "model_3 = Sequential()\n",
    "\n",
    "model_3.add(Conv2D(8, (3,3), strides = (2,2), padding = 'same',\n",
    "                 input_shape=(28,28,1)))\n",
    "model_3.add(Activation('relu'))\n",
    "\n",
    "#model_3.add(Conv2D(16, (3,3), strides = (2,2), padding = 'same'))\n",
    "#model_3.add(Activation('relu'))\n",
    "\n",
    "model_3.add(MaxPooling2D(pool_size=(2,2)))\n",
    "model_3.add(Dropout(0.25))\n",
    "\n",
    "model_3.add(Flatten())\n",
    "\n",
    "model_3.add(Dense(512))\n",
    "model_3.add(Activation('relu'))\n",
    "model_3.add(Dropout(0.25))\n",
    "\n",
    "model_3.add(Dense(256))\n",
    "model_3.add(Activation('relu'))\n",
    "model_3.add(Dropout(0.25))\n",
    "\n",
    "model_3.add(Dense(128))\n",
    "model_3.add(Activation('relu'))\n",
    "model_3.add(Dropout(0.25))\n",
    "\n",
    "model_3.add(Dense(num_classes))\n",
    "model_3.add(Activation('softmax'))\n",
    "\n",
    "model_3.summary()"
   ]
  },
  {
   "cell_type": "code",
   "execution_count": 55,
   "metadata": {},
   "outputs": [
    {
     "name": "stdout",
     "output_type": "stream",
     "text": [
      "Epoch 1/10\n",
      "1875/1875 [==============================] - 29s 15ms/step - loss: 0.6940 - accuracy: 0.7410 - val_loss: 0.4611 - val_accuracy: 0.8305\n",
      "Epoch 2/10\n",
      "1875/1875 [==============================] - 27s 15ms/step - loss: 0.4901 - accuracy: 0.8251 - val_loss: 0.4083 - val_accuracy: 0.8520\n",
      "Epoch 3/10\n",
      "1875/1875 [==============================] - 28s 15ms/step - loss: 0.4496 - accuracy: 0.8402 - val_loss: 0.3886 - val_accuracy: 0.8609\n",
      "Epoch 4/10\n",
      "1875/1875 [==============================] - 28s 15ms/step - loss: 0.4364 - accuracy: 0.8462 - val_loss: 0.3961 - val_accuracy: 0.8601\n",
      "Epoch 5/10\n",
      "1875/1875 [==============================] - 27s 15ms/step - loss: 0.4307 - accuracy: 0.8526 - val_loss: 0.3742 - val_accuracy: 0.8703\n",
      "Epoch 6/10\n",
      "1875/1875 [==============================] - 27s 14ms/step - loss: 0.4234 - accuracy: 0.8548 - val_loss: 0.3668 - val_accuracy: 0.8711\n",
      "Epoch 7/10\n",
      "1875/1875 [==============================] - 28s 15ms/step - loss: 0.4206 - accuracy: 0.8570 - val_loss: 0.3705 - val_accuracy: 0.8707\n",
      "Epoch 8/10\n",
      "1875/1875 [==============================] - 27s 15ms/step - loss: 0.4147 - accuracy: 0.8579 - val_loss: 0.3707 - val_accuracy: 0.8766\n",
      "Epoch 9/10\n",
      "1875/1875 [==============================] - 27s 15ms/step - loss: 0.4181 - accuracy: 0.8568 - val_loss: 0.3675 - val_accuracy: 0.8723\n",
      "Epoch 10/10\n",
      "1875/1875 [==============================] - 27s 14ms/step - loss: 0.4187 - accuracy: 0.8564 - val_loss: 0.3679 - val_accuracy: 0.8671\n"
     ]
    }
   ],
   "source": [
    "model_3.compile(loss = 'categorical_crossentropy',\n",
    "               optimizer = opt,\n",
    "               metrics = ['accuracy'])\n",
    "\n",
    "hist_3 = model_3.fit(x_train, y_train,\n",
    "           batch_size = batch_size,\n",
    "           epochs = 10,\n",
    "           validation_data= (x_test, y_test),\n",
    "           shuffle = True)"
   ]
  },
  {
   "cell_type": "code",
   "execution_count": 68,
   "metadata": {},
   "outputs": [
    {
     "data": {
      "text/plain": [
       "dict_keys(['loss', 'accuracy', 'val_loss', 'val_accuracy'])"
      ]
     },
     "execution_count": 68,
     "metadata": {},
     "output_type": "execute_result"
    }
   ],
   "source": [
    "hist_2.history.keys()"
   ]
  },
  {
   "cell_type": "code",
   "execution_count": 88,
   "metadata": {},
   "outputs": [
    {
     "data": {
      "text/plain": [
       "Text(0.5, 1.0, 'Val Accuracy over iteration')"
      ]
     },
     "execution_count": 88,
     "metadata": {},
     "output_type": "execute_result"
    },
    {
     "data": {
      "image/png": "[encoded data removed]",
      "text/plain": [
       "<Figure size 1080x504 with 2 Axes>"
      ]
     },
     "metadata": {
      "needs_background": "light"
     },
     "output_type": "display_data"
    }
   ],
   "source": [
    "n = len(hist_3.history['loss']) \n",
    "\n",
    "fig = plt.figure(figsize = (15,7))\n",
    "ax = fig.add_subplot(1,2,1)\n",
    "ax.plot(range(1,n+1), (hist_1.history['loss']), 'r', label='model 1 loss')\n",
    "ax.plot(range(1,n+1), (hist_2.history['loss']), 'b', label='model 2 loss')\n",
    "ax.plot(range(1,n+1), (hist_3.history['loss']), 'g', label='model 3 loss')\n",
    "ax.legend()\n",
    "ax.grid()\n",
    "ax.set_xlabel('iteration', fontsize = 20)\n",
    "ax.set_ylabel('loss', fontsize = 20)\n",
    "ax.set_title('Loss over iteration', fontsize = 30)\n",
    "\n",
    "ax = fig.add_subplot(1,2,2)\n",
    "ax.plot(range(1,n+1), (hist_1.history['val_accuracy']), 'r', label='model 1 val_accuracy')\n",
    "ax.plot(range(1, n+1), (hist_2.history['val_accuracy']), 'b', label='model 2 val_accuracy')\n",
    "ax.plot(range(1, n+1), (hist_3.history['val_accuracy']), 'g', label='model 3 val_accuracy')\n",
    "ax.legend()\n",
    "ax.grid()\n",
    "ax.set_xlabel('iteration', fontsize = 20)\n",
    "ax.set_ylabel('val accuracy', fontsize = 20)\n",
    "ax.set_title('Val Accuracy over iteration', fontsize = 30)"
   ]
  },
  {
   "cell_type": "markdown",
   "metadata": {},
   "source": [
    "## Discussion\n",
    "\n",
    "Model 1 performed the best as it showed the lowest loss and the highest validation accuracy. For this model, 206,426 parameters had to be learnt; most of which came from the dense layer. Furthermore, this model passed 392 inputs into the dense layer; learning a of information in the process.\n",
    "\n",
    "Model 2 performed worse than model 1. Model 2 had two convolution layers before the dense layer; passing 144 inputs into the dense layer. The additional convolution layer reduced the amount of information that the model could learn from due to its additional 2 x 2 stride. With less information, the model was easier to train but performed worse than model 1.\n",
    "\n",
    "Model 3 performed the worst as it achieved the highest loss and the lowest validation accuracy. Model 3 was the deepest network as the second convolution layer was removed, however, two additional dense networks were added. Although this model had the most parameters to learn, 366,810, its loss was the highest. This is likely due to vanishing gradients during back propagation as the figure shows that the loss starts to plateau after 5 iterations. The vanishing gradients issue also likely affected the accuracy of this model as the accuracy starts to plateau after 5 iterations. This model would have benefitted from some information transfer in which information gained earlier would be stored and used to train the last 2 dense layers.\n"
   ]
  },
  {
   "cell_type": "markdown",
   "metadata": {},
   "source": [
    "# Conclusion\n",
    "\n",
    "Model 1 was most suited for this analysis as it performed the best. This model was complex enough to achieve high validation accuracy and did not suffer from the vanishing gradient issue. Although this model achieves good performance, it could be further improved by training over more epochs as this will allow the model to run through training set more often; learning more information.\n",
    "\n",
    "Reducing the stride from (2, 2) to (1, 1), lowering the kernel from (3, 3) to (2, 2) and removing the max pooling will also improve the model's performance. These adjustments will produce more parameters for the model to learn but care must be taken to mitigate the risk of overfitting. \n",
    "\n",
    "In the future, model 3 could be rebuilt with transfer learning. The information learned from the first layers could be stored and used to train the last two dense layers. The introduction of transfer learning will mitigate the vanishing gradient issue and possibly lead to a better performing model.\n",
    "\n"
   ]
  },
  {
   "cell_type": "markdown",
   "metadata": {},
   "source": [
    "# Thank you for reading this notebook"
   ]
  },
  {
   "cell_type": "code",
   "execution_count": null,
   "metadata": {},
   "outputs": [],
   "source": []
  }
 ],
 "metadata": {
  "kernelspec": {
   "display_name": "Python 3.9",
   "language": "python",
   "name": "python3"
  },
  "language_info": {
   "codemirror_mode": {
    "name": "ipython",
    "version": 3
   },
   "file_extension": ".py",
   "mimetype": "text/x-python",
   "name": "python",
   "nbconvert_exporter": "python",
   "pygments_lexer": "ipython3",
   "version": "3.9.7"
  }
 },
 "nbformat": 4,
 "nbformat_minor": 1
}
