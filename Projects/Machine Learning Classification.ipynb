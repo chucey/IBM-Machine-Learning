{
 "cells": [
  {
   "cell_type": "markdown",
   "id": "4870dbbe",
   "metadata": {},
   "source": [
    "# Machine Learning: Classification"
   ]
  },
  {
   "cell_type": "markdown",
   "id": "0b0759ff",
   "metadata": {},
   "source": [
    "This report highlights the steps taken to build several machine learning models and then compares the accuracy of each model. The goal is to build four classification models:\n",
    "* Support Vector Machine\n",
    "* K Nearest Neighbours\n",
    "* Decision Trees\n",
    "* Logistic Regression\n",
    "\n",
    "These models will classify mushrooms as either edible or poisonous. The ideal model will accurately classify all poisonous mushrooms as a misclassification can be life threatening.\n"
   ]
  },
  {
   "cell_type": "markdown",
   "id": "359ddc71",
   "metadata": {},
   "source": [
    "## The data"
   ]
  },
  {
   "cell_type": "markdown",
   "id": "3c6a54c0",
   "metadata": {},
   "source": [
    "This dataset includes hypothetical observations that correspond to 23 species of gilled mushrooms in the Agaricus and Lepiota Family. This dataset was drawn from The Audubon Society Field Guide to North American Mushrooms (1981), and obtained from [kaggle](https://www.kaggle.com/datasets/uciml/mushroom-classification). Each species is identified as definitely edible, definitely poisonous, or of unknown edibility and not recommended. This latter class was combined with the poisonous one. \n",
    "\n",
    "\n",
    "\n"
   ]
  },
  {
   "cell_type": "markdown",
   "id": "5e4d89a8",
   "metadata": {},
   "source": [
    "## Data Attributes\n",
    "\n",
    "The Attributes below describe the content in each column in the dataset:\n",
    "\n",
    "* class: edible=e, poisonous=p\n",
    "\n",
    "* cap-shape: bell=b, conical=c, convex=x, flat=f, knobbed=k, sunken=s\n",
    "\n",
    "* cap-surface: fibrous=f, grooves=g, scaly=y, smooth=s\n",
    "\n",
    "* cap-color: brown=n, buff=b, cinnamon=c, gray=g, green=r, pink=p, purple=u, red=e, white=w, yellow=y\n",
    "\n",
    "* bruises: bruises=t, no=f\n",
    "\n",
    "* odor: almond=a, anise=l, creosote=c, fishy=y, foul=f, musty=m, none=n, pungent=p, spicy=s\n",
    "\n",
    "* gill-attachment: attached=a, descending=d, free=f, notched=n\n",
    "\n",
    "* gill-spacing: close=c, crowded=w, distant=d\n",
    "\n",
    "* gill-size: broad=b, narrow=n\n",
    "\n",
    "* gill-color: black=k, brown=n, buff=b, chocolate=h, gray=g, green=r, orange=o, pink=p, purple=u, red=e, white=w, yellow=y\n",
    "\n",
    "* stalk-shape: enlarging=e, tapering=t\n",
    "\n",
    "* stalk-root: bulbous=b, club=c, cup=u, equal=e, rhizomorphs=z, rooted=r, missing=?\n",
    "\n",
    "* stalk-surface-above-ring: fibrous=f, scaly=y, silky=k, smooth=s\n",
    "\n",
    "* stalk-surface-below-ring: fibrous=f, scaly=y, silky=k, smooth=s\n",
    "\n",
    "* stalk-color-above-ring: brown=n, buff=b, cinnamon=c, gray=g, orange=o, pink=p, red=e, white=w, yellow=y\n",
    "\n",
    "* stalk-color-below-ring: brown=n, buff=b, cinnamon=c, gray=g, orange=o, pink=p, red=e, white=w, yellow=y\n",
    "\n",
    "* veil-type: partial=p, universal=u\n",
    "\n",
    "* veil-color: brown=n, orange=o, white=w, yellow=y\n",
    "\n",
    "* ring-number: none=n, one=o, two=t\n",
    "\n",
    "* ring-type: cobwebby=c ,evanescent=e, flaring=f, large=l, none=n, pendant=p, sheathing=s, zone=z\n",
    "\n",
    "* spore-print-color: black=k, brown=n, buff=b, chocolate=h, green=r, orange=o, purple=u, white=w, yellow=y\n",
    "\n",
    "* population: abundant=a, clustered=c, numerous=n, scattered=s, several=v, solitary=y\n",
    "\n",
    "* habitat: grasses=g, leaves=l, meadows=m, paths=p, urban=u, waste=w, woods=d"
   ]
  },
  {
   "cell_type": "code",
   "execution_count": 16,
   "id": "bc95d9db",
   "metadata": {},
   "outputs": [],
   "source": [
    "# import libraies\n",
    "import pandas as pd\n",
    "import numpy as np\n",
    "import matplotlib.pyplot as plt\n",
    "%matplotlib inline\n",
    "\n",
    "import seaborn as sns\n",
    "\n",
    "from sklearn.preprocessing import OneHotEncoder, LabelEncoder\n",
    "from sklearn.tree import DecisionTreeClassifier\n",
    "import sklearn.tree as tree\n",
    "from sklearn import svm\n",
    "from sklearn.linear_model import LogisticRegression\n",
    "from sklearn.model_selection import train_test_split\n",
    "from sklearn.neighbors import KNeighborsClassifier\n",
    "from sklearn.preprocessing import OneHotEncoder, LabelEncoder"
   ]
  },
  {
   "cell_type": "code",
   "execution_count": 17,
   "id": "8053d015",
   "metadata": {},
   "outputs": [
    {
     "data": {
      "text/html": [
       "<div>\n",
       "<style scoped>\n",
       "    .dataframe tbody tr th:only-of-type {\n",
       "        vertical-align: middle;\n",
       "    }\n",
       "\n",
       "    .dataframe tbody tr th {\n",
       "        vertical-align: top;\n",
       "    }\n",
       "\n",
       "    .dataframe thead th {\n",
       "        text-align: right;\n",
       "    }\n",
       "</style>\n",
       "<table border=\"1\" class=\"dataframe\">\n",
       "  <thead>\n",
       "    <tr style=\"text-align: right;\">\n",
       "      <th></th>\n",
       "      <th>class</th>\n",
       "      <th>cap-shape</th>\n",
       "      <th>cap-surface</th>\n",
       "      <th>cap-color</th>\n",
       "      <th>bruises</th>\n",
       "      <th>odor</th>\n",
       "      <th>gill-attachment</th>\n",
       "      <th>gill-spacing</th>\n",
       "      <th>gill-size</th>\n",
       "      <th>gill-color</th>\n",
       "      <th>...</th>\n",
       "      <th>stalk-surface-below-ring</th>\n",
       "      <th>stalk-color-above-ring</th>\n",
       "      <th>stalk-color-below-ring</th>\n",
       "      <th>veil-type</th>\n",
       "      <th>veil-color</th>\n",
       "      <th>ring-number</th>\n",
       "      <th>ring-type</th>\n",
       "      <th>spore-print-color</th>\n",
       "      <th>population</th>\n",
       "      <th>habitat</th>\n",
       "    </tr>\n",
       "  </thead>\n",
       "  <tbody>\n",
       "    <tr>\n",
       "      <th>0</th>\n",
       "      <td>p</td>\n",
       "      <td>x</td>\n",
       "      <td>s</td>\n",
       "      <td>n</td>\n",
       "      <td>t</td>\n",
       "      <td>p</td>\n",
       "      <td>f</td>\n",
       "      <td>c</td>\n",
       "      <td>n</td>\n",
       "      <td>k</td>\n",
       "      <td>...</td>\n",
       "      <td>s</td>\n",
       "      <td>w</td>\n",
       "      <td>w</td>\n",
       "      <td>p</td>\n",
       "      <td>w</td>\n",
       "      <td>o</td>\n",
       "      <td>p</td>\n",
       "      <td>k</td>\n",
       "      <td>s</td>\n",
       "      <td>u</td>\n",
       "    </tr>\n",
       "    <tr>\n",
       "      <th>1</th>\n",
       "      <td>e</td>\n",
       "      <td>x</td>\n",
       "      <td>s</td>\n",
       "      <td>y</td>\n",
       "      <td>t</td>\n",
       "      <td>a</td>\n",
       "      <td>f</td>\n",
       "      <td>c</td>\n",
       "      <td>b</td>\n",
       "      <td>k</td>\n",
       "      <td>...</td>\n",
       "      <td>s</td>\n",
       "      <td>w</td>\n",
       "      <td>w</td>\n",
       "      <td>p</td>\n",
       "      <td>w</td>\n",
       "      <td>o</td>\n",
       "      <td>p</td>\n",
       "      <td>n</td>\n",
       "      <td>n</td>\n",
       "      <td>g</td>\n",
       "    </tr>\n",
       "    <tr>\n",
       "      <th>2</th>\n",
       "      <td>e</td>\n",
       "      <td>b</td>\n",
       "      <td>s</td>\n",
       "      <td>w</td>\n",
       "      <td>t</td>\n",
       "      <td>l</td>\n",
       "      <td>f</td>\n",
       "      <td>c</td>\n",
       "      <td>b</td>\n",
       "      <td>n</td>\n",
       "      <td>...</td>\n",
       "      <td>s</td>\n",
       "      <td>w</td>\n",
       "      <td>w</td>\n",
       "      <td>p</td>\n",
       "      <td>w</td>\n",
       "      <td>o</td>\n",
       "      <td>p</td>\n",
       "      <td>n</td>\n",
       "      <td>n</td>\n",
       "      <td>m</td>\n",
       "    </tr>\n",
       "    <tr>\n",
       "      <th>3</th>\n",
       "      <td>p</td>\n",
       "      <td>x</td>\n",
       "      <td>y</td>\n",
       "      <td>w</td>\n",
       "      <td>t</td>\n",
       "      <td>p</td>\n",
       "      <td>f</td>\n",
       "      <td>c</td>\n",
       "      <td>n</td>\n",
       "      <td>n</td>\n",
       "      <td>...</td>\n",
       "      <td>s</td>\n",
       "      <td>w</td>\n",
       "      <td>w</td>\n",
       "      <td>p</td>\n",
       "      <td>w</td>\n",
       "      <td>o</td>\n",
       "      <td>p</td>\n",
       "      <td>k</td>\n",
       "      <td>s</td>\n",
       "      <td>u</td>\n",
       "    </tr>\n",
       "    <tr>\n",
       "      <th>4</th>\n",
       "      <td>e</td>\n",
       "      <td>x</td>\n",
       "      <td>s</td>\n",
       "      <td>g</td>\n",
       "      <td>f</td>\n",
       "      <td>n</td>\n",
       "      <td>f</td>\n",
       "      <td>w</td>\n",
       "      <td>b</td>\n",
       "      <td>k</td>\n",
       "      <td>...</td>\n",
       "      <td>s</td>\n",
       "      <td>w</td>\n",
       "      <td>w</td>\n",
       "      <td>p</td>\n",
       "      <td>w</td>\n",
       "      <td>o</td>\n",
       "      <td>e</td>\n",
       "      <td>n</td>\n",
       "      <td>a</td>\n",
       "      <td>g</td>\n",
       "    </tr>\n",
       "  </tbody>\n",
       "</table>\n",
       "<p>5 rows × 23 columns</p>\n",
       "</div>"
      ],
      "text/plain": [
       "  class cap-shape cap-surface cap-color bruises odor gill-attachment  \\\n",
       "0     p         x           s         n       t    p               f   \n",
       "1     e         x           s         y       t    a               f   \n",
       "2     e         b           s         w       t    l               f   \n",
       "3     p         x           y         w       t    p               f   \n",
       "4     e         x           s         g       f    n               f   \n",
       "\n",
       "  gill-spacing gill-size gill-color  ... stalk-surface-below-ring  \\\n",
       "0            c         n          k  ...                        s   \n",
       "1            c         b          k  ...                        s   \n",
       "2            c         b          n  ...                        s   \n",
       "3            c         n          n  ...                        s   \n",
       "4            w         b          k  ...                        s   \n",
       "\n",
       "  stalk-color-above-ring stalk-color-below-ring veil-type veil-color  \\\n",
       "0                      w                      w         p          w   \n",
       "1                      w                      w         p          w   \n",
       "2                      w                      w         p          w   \n",
       "3                      w                      w         p          w   \n",
       "4                      w                      w         p          w   \n",
       "\n",
       "  ring-number ring-type spore-print-color population habitat  \n",
       "0           o         p                 k          s       u  \n",
       "1           o         p                 n          n       g  \n",
       "2           o         p                 n          n       m  \n",
       "3           o         p                 k          s       u  \n",
       "4           o         e                 n          a       g  \n",
       "\n",
       "[5 rows x 23 columns]"
      ]
     },
     "execution_count": 17,
     "metadata": {},
     "output_type": "execute_result"
    }
   ],
   "source": [
    "# load the data\n",
    "df = pd.read_csv('mushrooms.csv')\n",
    "df.head()"
   ]
  },
  {
   "cell_type": "code",
   "execution_count": 4,
   "id": "cdfe9d70",
   "metadata": {},
   "outputs": [
    {
     "data": {
      "text/plain": [
       "(8124, 23)"
      ]
     },
     "execution_count": 4,
     "metadata": {},
     "output_type": "execute_result"
    }
   ],
   "source": [
    "df.shape"
   ]
  },
  {
   "cell_type": "code",
   "execution_count": 94,
   "id": "0ae094ff",
   "metadata": {},
   "outputs": [
    {
     "data": {
      "text/plain": [
       "class                       object\n",
       "cap-shape                   object\n",
       "cap-surface                 object\n",
       "cap-color                   object\n",
       "bruises                     object\n",
       "odor                        object\n",
       "gill-attachment             object\n",
       "gill-spacing                object\n",
       "gill-size                   object\n",
       "gill-color                  object\n",
       "stalk-shape                 object\n",
       "stalk-root                  object\n",
       "stalk-surface-above-ring    object\n",
       "stalk-surface-below-ring    object\n",
       "stalk-color-above-ring      object\n",
       "stalk-color-below-ring      object\n",
       "veil-type                   object\n",
       "veil-color                  object\n",
       "ring-number                 object\n",
       "ring-type                   object\n",
       "spore-print-color           object\n",
       "population                  object\n",
       "habitat                     object\n",
       "dtype: object"
      ]
     },
     "execution_count": 94,
     "metadata": {},
     "output_type": "execute_result"
    }
   ],
   "source": [
    "df.dtypes"
   ]
  },
  {
   "cell_type": "code",
   "execution_count": 95,
   "id": "d91657ad",
   "metadata": {},
   "outputs": [
    {
     "data": {
      "text/plain": [
       "e    4208\n",
       "p    3916\n",
       "Name: class, dtype: int64"
      ]
     },
     "execution_count": 95,
     "metadata": {},
     "output_type": "execute_result"
    }
   ],
   "source": [
    "# determine if the data set is balanced\n",
    "df['class'].value_counts()"
   ]
  },
  {
   "cell_type": "code",
   "execution_count": 102,
   "id": "26f5bc0a",
   "metadata": {},
   "outputs": [
    {
     "data": {
      "text/plain": [
       "Text(0, 0.5, 'count')"
      ]
     },
     "execution_count": 102,
     "metadata": {},
     "output_type": "execute_result"
    },
    {
     "data": {
      "image/png": "[encoded data removed]",
      "text/plain": [
       "<Figure size 432x288 with 1 Axes>"
      ]
     },
     "metadata": {
      "needs_background": "light"
     },
     "output_type": "display_data"
    }
   ],
   "source": [
    "ax = df['class'].value_counts().plot.bar(color=['green', 'red'])\n",
    "ax.set_xlabel('class')\n",
    "ax.set_ylabel('count')"
   ]
  },
  {
   "cell_type": "code",
   "execution_count": 5,
   "id": "5f6e50c8",
   "metadata": {},
   "outputs": [
    {
     "data": {
      "text/html": [
       "<div>\n",
       "<style scoped>\n",
       "    .dataframe tbody tr th:only-of-type {\n",
       "        vertical-align: middle;\n",
       "    }\n",
       "\n",
       "    .dataframe tbody tr th {\n",
       "        vertical-align: top;\n",
       "    }\n",
       "\n",
       "    .dataframe thead th {\n",
       "        text-align: right;\n",
       "    }\n",
       "</style>\n",
       "<table border=\"1\" class=\"dataframe\">\n",
       "  <thead>\n",
       "    <tr style=\"text-align: right;\">\n",
       "      <th></th>\n",
       "      <th>class</th>\n",
       "      <th>cap-shape_b</th>\n",
       "      <th>cap-shape_c</th>\n",
       "      <th>cap-shape_f</th>\n",
       "      <th>cap-shape_k</th>\n",
       "      <th>cap-shape_s</th>\n",
       "      <th>cap-shape_x</th>\n",
       "      <th>cap-surface_f</th>\n",
       "      <th>cap-surface_g</th>\n",
       "      <th>cap-surface_s</th>\n",
       "      <th>...</th>\n",
       "      <th>population_s</th>\n",
       "      <th>population_v</th>\n",
       "      <th>population_y</th>\n",
       "      <th>habitat_d</th>\n",
       "      <th>habitat_g</th>\n",
       "      <th>habitat_l</th>\n",
       "      <th>habitat_m</th>\n",
       "      <th>habitat_p</th>\n",
       "      <th>habitat_u</th>\n",
       "      <th>habitat_w</th>\n",
       "    </tr>\n",
       "  </thead>\n",
       "  <tbody>\n",
       "    <tr>\n",
       "      <th>0</th>\n",
       "      <td>1</td>\n",
       "      <td>0</td>\n",
       "      <td>0</td>\n",
       "      <td>0</td>\n",
       "      <td>0</td>\n",
       "      <td>0</td>\n",
       "      <td>1</td>\n",
       "      <td>0</td>\n",
       "      <td>0</td>\n",
       "      <td>1</td>\n",
       "      <td>...</td>\n",
       "      <td>1</td>\n",
       "      <td>0</td>\n",
       "      <td>0</td>\n",
       "      <td>0</td>\n",
       "      <td>0</td>\n",
       "      <td>0</td>\n",
       "      <td>0</td>\n",
       "      <td>0</td>\n",
       "      <td>1</td>\n",
       "      <td>0</td>\n",
       "    </tr>\n",
       "    <tr>\n",
       "      <th>1</th>\n",
       "      <td>0</td>\n",
       "      <td>0</td>\n",
       "      <td>0</td>\n",
       "      <td>0</td>\n",
       "      <td>0</td>\n",
       "      <td>0</td>\n",
       "      <td>1</td>\n",
       "      <td>0</td>\n",
       "      <td>0</td>\n",
       "      <td>1</td>\n",
       "      <td>...</td>\n",
       "      <td>0</td>\n",
       "      <td>0</td>\n",
       "      <td>0</td>\n",
       "      <td>0</td>\n",
       "      <td>1</td>\n",
       "      <td>0</td>\n",
       "      <td>0</td>\n",
       "      <td>0</td>\n",
       "      <td>0</td>\n",
       "      <td>0</td>\n",
       "    </tr>\n",
       "    <tr>\n",
       "      <th>2</th>\n",
       "      <td>0</td>\n",
       "      <td>1</td>\n",
       "      <td>0</td>\n",
       "      <td>0</td>\n",
       "      <td>0</td>\n",
       "      <td>0</td>\n",
       "      <td>0</td>\n",
       "      <td>0</td>\n",
       "      <td>0</td>\n",
       "      <td>1</td>\n",
       "      <td>...</td>\n",
       "      <td>0</td>\n",
       "      <td>0</td>\n",
       "      <td>0</td>\n",
       "      <td>0</td>\n",
       "      <td>0</td>\n",
       "      <td>0</td>\n",
       "      <td>1</td>\n",
       "      <td>0</td>\n",
       "      <td>0</td>\n",
       "      <td>0</td>\n",
       "    </tr>\n",
       "    <tr>\n",
       "      <th>3</th>\n",
       "      <td>1</td>\n",
       "      <td>0</td>\n",
       "      <td>0</td>\n",
       "      <td>0</td>\n",
       "      <td>0</td>\n",
       "      <td>0</td>\n",
       "      <td>1</td>\n",
       "      <td>0</td>\n",
       "      <td>0</td>\n",
       "      <td>0</td>\n",
       "      <td>...</td>\n",
       "      <td>1</td>\n",
       "      <td>0</td>\n",
       "      <td>0</td>\n",
       "      <td>0</td>\n",
       "      <td>0</td>\n",
       "      <td>0</td>\n",
       "      <td>0</td>\n",
       "      <td>0</td>\n",
       "      <td>1</td>\n",
       "      <td>0</td>\n",
       "    </tr>\n",
       "    <tr>\n",
       "      <th>4</th>\n",
       "      <td>0</td>\n",
       "      <td>0</td>\n",
       "      <td>0</td>\n",
       "      <td>0</td>\n",
       "      <td>0</td>\n",
       "      <td>0</td>\n",
       "      <td>1</td>\n",
       "      <td>0</td>\n",
       "      <td>0</td>\n",
       "      <td>1</td>\n",
       "      <td>...</td>\n",
       "      <td>0</td>\n",
       "      <td>0</td>\n",
       "      <td>0</td>\n",
       "      <td>0</td>\n",
       "      <td>1</td>\n",
       "      <td>0</td>\n",
       "      <td>0</td>\n",
       "      <td>0</td>\n",
       "      <td>0</td>\n",
       "      <td>0</td>\n",
       "    </tr>\n",
       "  </tbody>\n",
       "</table>\n",
       "<p>5 rows × 118 columns</p>\n",
       "</div>"
      ],
      "text/plain": [
       "   class  cap-shape_b  cap-shape_c  cap-shape_f  cap-shape_k  cap-shape_s  \\\n",
       "0      1            0            0            0            0            0   \n",
       "1      0            0            0            0            0            0   \n",
       "2      0            1            0            0            0            0   \n",
       "3      1            0            0            0            0            0   \n",
       "4      0            0            0            0            0            0   \n",
       "\n",
       "   cap-shape_x  cap-surface_f  cap-surface_g  cap-surface_s  ...  \\\n",
       "0            1              0              0              1  ...   \n",
       "1            1              0              0              1  ...   \n",
       "2            0              0              0              1  ...   \n",
       "3            1              0              0              0  ...   \n",
       "4            1              0              0              1  ...   \n",
       "\n",
       "   population_s  population_v  population_y  habitat_d  habitat_g  habitat_l  \\\n",
       "0             1             0             0          0          0          0   \n",
       "1             0             0             0          0          1          0   \n",
       "2             0             0             0          0          0          0   \n",
       "3             1             0             0          0          0          0   \n",
       "4             0             0             0          0          1          0   \n",
       "\n",
       "   habitat_m  habitat_p  habitat_u  habitat_w  \n",
       "0          0          0          1          0  \n",
       "1          0          0          0          0  \n",
       "2          1          0          0          0  \n",
       "3          0          0          1          0  \n",
       "4          0          0          0          0  \n",
       "\n",
       "[5 rows x 118 columns]"
      ]
     },
     "execution_count": 5,
     "metadata": {},
     "output_type": "execute_result"
    }
   ],
   "source": [
    "enc = LabelEncoder()\n",
    "df['class'] = enc.fit_transform(df['class'])\n",
    "\n",
    "cols = [x for x in df.columns if x != 'class']\n",
    "enc_features= pd.get_dummies(df[cols])\n",
    "\n",
    "ml_df = pd.concat([df['class'],enc_features ], axis = 1)\n",
    "ml_df.head()"
   ]
  },
  {
   "cell_type": "markdown",
   "id": "2960cf69",
   "metadata": {},
   "source": [
    "## Machine Learning"
   ]
  },
  {
   "cell_type": "markdown",
   "id": "8c8b68fb",
   "metadata": {},
   "source": [
    "As mentioned above, the goal is to build several classification models that will correctly classify whether a mushroom is edible (class 0) or poisonous (class 1). The goal here is to accurately classify poisonous mushrooms and as such, we want our recall value to be as high as possible. We are not as concerned about the precision of the model since classifying edible mushrooms as poisonous is not as important. However, misclassifying poisonous mushrooms can be life threatening.\n",
    "The four models below were built:\n",
    "*\tSupport Vector Machine\n",
    "*\tK Nearest Neighbours\n",
    "*\tDecision Trees\n",
    "*\tLogistic Regression\n",
    "\n",
    "These model types were selected because they make predictions using different algorithms and as a result, one model may be more suited to this classification problem than the others. As a misclassification of a poisonous mushroom can be life threatening, it is important to deploy the model that can most accurately classify the mushrooms.\n",
    "\n",
    "As the dataset contained only text entries, the entire dataset had to be OneHotEncoded leading to a binary dataset. The data was then split into a training and testing set to train and test each model respectively.  \n"
   ]
  },
  {
   "cell_type": "markdown",
   "id": "983e2ae4",
   "metadata": {},
   "source": [
    "First we did to detemine if the dataset is balanced. To do this, we will determine how many observations belong to each class."
   ]
  },
  {
   "cell_type": "markdown",
   "id": "88c44cf4",
   "metadata": {},
   "source": [
    "Next, we define our features and target variables"
   ]
  },
  {
   "cell_type": "code",
   "execution_count": 52,
   "id": "7246bc04",
   "metadata": {},
   "outputs": [],
   "source": [
    "# define the features\n",
    "features = [x for x in ml_df.columns if x != 'class']\n",
    "X = ml_df[features]\n",
    "# define the target\n",
    "y = ml_df['class']"
   ]
  },
  {
   "cell_type": "markdown",
   "id": "be0e69ad",
   "metadata": {},
   "source": [
    "Next, we split our data into a training and testing set"
   ]
  },
  {
   "cell_type": "code",
   "execution_count": 25,
   "id": "e3c6cc0a",
   "metadata": {},
   "outputs": [],
   "source": [
    "from sklearn.model_selection import train_test_split\n",
    "X_train, X_test, y_train, y_test = train_test_split(X,y,test_size=0.4, random_state=42)"
   ]
  },
  {
   "cell_type": "code",
   "execution_count": 19,
   "id": "3541a7e9",
   "metadata": {},
   "outputs": [],
   "source": [
    "from sklearn.metrics import classification_report, accuracy_score,precision_recall_fscore_support, confusion_matrix, plot_confusion_matrix,precision_score, recall_score, roc_auc_score\n",
    "from sklearn.model_selection import GridSearchCV"
   ]
  },
  {
   "cell_type": "code",
   "execution_count": 88,
   "id": "2fdf46a8",
   "metadata": {},
   "outputs": [],
   "source": [
    "def model_results(X_train, X_test, y_train, y_test, model):\n",
    "    scores = {}\n",
    "    if model == 'logreg': #for logistic regression\n",
    "        param_grid = [{'penalty' : ['l1,' 'l2',]},\n",
    "                      {'C':[0.01, 0.1, 1]}]\n",
    "        \n",
    "        lr = LogisticRegression(random_state=123\n",
    "                                ,max_iter = 1000\n",
    "        grid = GridSearchCV(estimator = lr,\n",
    "                            param_grid = param_grid,\n",
    "                            scoring = 'f1',\n",
    "                            cv= 4,\n",
    "                            verbose = 0)\n",
    "        grid.fit(X_train, y_train)\n",
    "        yhat = grid.predict(X_test)\n",
    "        accuracy = accuracy_score(y_test, yhat)\n",
    "        \n",
    "        precision, recall, f_beta, support = precision_recall_fscore_support(y_test,\n",
    "                                            yhat, beta=5, pos_label=1, average='binary')\n",
    "        \n",
    "        scores['model'] = model\n",
    "        scores['accuracy'] = accuracy\n",
    "        scores['precision'] = precision\n",
    "        scores['recall'] = recall\n",
    "        scores['f1_score'] = f_beta\n",
    "        \n",
    "        matrix = confusion_matrix(y_test, yhat)\n",
    "        \n",
    "        #return matrix\n",
    "        ax = sns.heatmap(matrix, annot=True)\n",
    "        ax.set_xlabel('Predicted Values')\n",
    "        ax.set_ylabel('Actual Values')\n",
    "                       \n",
    "        return pd.Series(scores), plt.show()   \n",
    "    \n",
    "    \n",
    "    elif model == 'Decision Tree': # for decision tree\n",
    "        param_grid = [{'max_depth': range(1,10)},\n",
    "                      {'max_features': range(1,10)}]\n",
    "        \n",
    "        decison_tree = DecisionTreeClassifier(random_state=123\n",
    "                                )\n",
    "        grid = GridSearchCV(estimator = decison_tree,\n",
    "                            param_grid = param_grid,\n",
    "                            scoring = 'f1',\n",
    "                            cv= 4,\n",
    "                            verbose = 0)\n",
    "        grid.fit(X_train, y_train)\n",
    "        yhat = grid.predict(X_test)\n",
    "        accuracy = accuracy_score(y_test, yhat)\n",
    "        \n",
    "        precision, recall, f_beta, support = precision_recall_fscore_support(y_test,\n",
    "                                            yhat, beta=5, pos_label=1, average='binary')\n",
    "        \n",
    "        scores['model'] = model\n",
    "        scores['accuracy'] = accuracy\n",
    "        scores['precision'] = precision\n",
    "        scores['recall'] = recall\n",
    "        scores['f1_score'] = f_beta\n",
    "        \n",
    "        matrix = confusion_matrix(y_test, yhat)\n",
    "        \n",
    "        #return matrix\n",
    "        ax = sns.heatmap(matrix, annot=True)\n",
    "        ax.set_xlabel('Predicted Values')\n",
    "        ax.set_ylabel('Actual Values')\n",
    "                       \n",
    "        return pd.Series(scores), plt.show() \n",
    "    \n",
    "    elif model == 'SVM': # for support vector machines\n",
    "        param_grid = [{'kernel': ['rbf', 'sigmoid', 'linear']},\n",
    "                      {'C': [0.001, 0.01, 0.1, 1,10, 100]}]\n",
    "        \n",
    "        support_vect = svm.SVC(random_state=123)\n",
    "        \n",
    "        grid = GridSearchCV(estimator = support_vect,\n",
    "                            param_grid = param_grid,\n",
    "                            scoring = 'f1',\n",
    "                            cv= 4,\n",
    "                            verbose = 0)\n",
    "        grid.fit(X_train, y_train)\n",
    "        yhat = grid.predict(X_test)\n",
    "        accuracy = accuracy_score(y_test, yhat)\n",
    "        \n",
    "        precision, recall, f_beta, support = precision_recall_fscore_support(y_test,\n",
    "                                            yhat, beta=5, pos_label=1, average='binary')\n",
    "        \n",
    "        scores['model'] = model\n",
    "        scores['accuracy'] = accuracy\n",
    "        scores['precision'] = precision\n",
    "        scores['recall'] = recall\n",
    "        scores['f1_score'] = f_beta\n",
    "        \n",
    "        matrix = confusion_matrix(y_test, yhat)\n",
    "        \n",
    "        #return matrix\n",
    "        ax = sns.heatmap(matrix, annot=True)\n",
    "        ax.set_xlabel('Predicted Values')\n",
    "        ax.set_ylabel('Actual Values')\n",
    "                       \n",
    "        return pd.Series(scores), plt.show()   \n",
    "    \n",
    "    elif model == 'KNN': # for K nearest neighbours\n",
    "        param_grid = [{'n_neighbors' : range(1,11)}]\n",
    "        \n",
    "        neigh = KNeighborsClassifier()\n",
    "        \n",
    "        grid = GridSearchCV(estimator = neigh,\n",
    "                            param_grid = param_grid,\n",
    "                            scoring = 'f1',\n",
    "                            cv= 4,\n",
    "                            verbose = 0)\n",
    "        grid.fit(X_train, y_train)\n",
    "        yhat = grid.predict(X_test)\n",
    "        accuracy = accuracy_score(y_test, yhat)\n",
    "        \n",
    "        precision, recall, f_beta, support = precision_recall_fscore_support(y_test,\n",
    "                                            yhat, beta=5, pos_label=1, average='binary')\n",
    "        \n",
    "        scores['model'] = model\n",
    "        scores['accuracy'] = accuracy\n",
    "        scores['precision'] = precision\n",
    "        scores['recall'] = recall\n",
    "        scores['f1_score'] = f_beta\n",
    "        \n",
    "        matrix = confusion_matrix(y_test, yhat)\n",
    "        \n",
    "        #return matrix\n",
    "        ax = sns.heatmap(matrix, annot=True)\n",
    "        ax.set_xlabel('Predicted Values')\n",
    "        ax.set_ylabel('Actual Values')\n",
    "                       \n",
    "        return pd.Series(scores), plt.show()  \n",
    "        \n",
    "        \n",
    "        \n",
    "\n"
   ]
  },
  {
   "cell_type": "code",
   "execution_count": 91,
   "id": "8292d57f",
   "metadata": {},
   "outputs": [
    {
     "data": {
      "image/png": "[encoded data removed]",
      "text/plain": [
       "<Figure size 432x288 with 2 Axes>"
      ]
     },
     "metadata": {
      "needs_background": "light"
     },
     "output_type": "display_data"
    },
    {
     "data": {
      "text/plain": [
       "(model        Decision Tree\n",
       " accuracy               1.0\n",
       " precision              1.0\n",
       " recall                 1.0\n",
       " f1_score               1.0\n",
       " dtype: object,\n",
       " None)"
      ]
     },
     "execution_count": 91,
     "metadata": {},
     "output_type": "execute_result"
    }
   ],
   "source": [
    "model_results(X_train, X_test, y_train, y_test, 'Decision Tree')"
   ]
  },
  {
   "cell_type": "code",
   "execution_count": 87,
   "id": "bd3657e2",
   "metadata": {},
   "outputs": [
    {
     "data": {
      "image/png": "[encoded data removed]",
      "text/plain": [
       "<Figure size 432x288 with 2 Axes>"
      ]
     },
     "metadata": {
      "needs_background": "light"
     },
     "output_type": "display_data"
    },
    {
     "data": {
      "text/plain": [
       "(model        SVM\n",
       " accuracy     1.0\n",
       " precision    1.0\n",
       " recall       1.0\n",
       " f1_score     1.0\n",
       " dtype: object,\n",
       " None)"
      ]
     },
     "execution_count": 87,
     "metadata": {},
     "output_type": "execute_result"
    }
   ],
   "source": [
    "model_results(X_train, X_test, y_train, y_test, 'SVM')"
   ]
  },
  {
   "cell_type": "code",
   "execution_count": 89,
   "id": "1fc9e6f4",
   "metadata": {},
   "outputs": [
    {
     "data": {
      "image/png": "[encoded data removed]",
      "text/plain": [
       "<Figure size 432x288 with 2 Axes>"
      ]
     },
     "metadata": {
      "needs_background": "light"
     },
     "output_type": "display_data"
    },
    {
     "data": {
      "text/plain": [
       "(model        KNN\n",
       " accuracy     1.0\n",
       " precision    1.0\n",
       " recall       1.0\n",
       " f1_score     1.0\n",
       " dtype: object,\n",
       " None)"
      ]
     },
     "execution_count": 89,
     "metadata": {},
     "output_type": "execute_result"
    }
   ],
   "source": [
    "model_results(X_train, X_test, y_train, y_test, 'KNN')"
   ]
  },
  {
   "cell_type": "code",
   "execution_count": 92,
   "id": "bb08d1cf",
   "metadata": {},
   "outputs": [
    {
     "name": "stderr",
     "output_type": "stream",
     "text": [
      "C:\\Users\\chuce\\AppData\\Local\\Packages\\PythonSoftwareFoundation.Python.3.10_qbz5n2kfra8p0\\LocalCache\\local-packages\\Python310\\site-packages\\sklearn\\linear_model\\_logistic.py:444: ConvergenceWarning: lbfgs failed to converge (status=1):\n",
      "STOP: TOTAL NO. of ITERATIONS REACHED LIMIT.\n",
      "\n",
      "Increase the number of iterations (max_iter) or scale the data as shown in:\n",
      "    https://scikit-learn.org/stable/modules/preprocessing.html\n",
      "Please also refer to the documentation for alternative solver options:\n",
      "    https://scikit-learn.org/stable/modules/linear_model.html#logistic-regression\n",
      "  n_iter_i = _check_optimize_result(\n",
      "C:\\Users\\chuce\\AppData\\Local\\Packages\\PythonSoftwareFoundation.Python.3.10_qbz5n2kfra8p0\\LocalCache\\local-packages\\Python310\\site-packages\\sklearn\\model_selection\\_validation.py:378: FitFailedWarning: \n",
      "4 fits failed out of a total of 28.\n",
      "The score on these train-test partitions for these parameters will be set to nan.\n",
      "If these failures are not expected, you can try to debug them by setting error_score='raise'.\n",
      "\n",
      "Below are more details about the failures:\n",
      "--------------------------------------------------------------------------------\n",
      "4 fits failed with the following error:\n",
      "Traceback (most recent call last):\n",
      "  File \"C:\\Users\\chuce\\AppData\\Local\\Packages\\PythonSoftwareFoundation.Python.3.10_qbz5n2kfra8p0\\LocalCache\\local-packages\\Python310\\site-packages\\sklearn\\model_selection\\_validation.py\", line 686, in _fit_and_score\n",
      "    estimator.fit(X_train, y_train, **fit_params)\n",
      "  File \"C:\\Users\\chuce\\AppData\\Local\\Packages\\PythonSoftwareFoundation.Python.3.10_qbz5n2kfra8p0\\LocalCache\\local-packages\\Python310\\site-packages\\sklearn\\linear_model\\_logistic.py\", line 1094, in fit\n",
      "    solver = _check_solver(self.solver, self.penalty, self.dual)\n",
      "  File \"C:\\Users\\chuce\\AppData\\Local\\Packages\\PythonSoftwareFoundation.Python.3.10_qbz5n2kfra8p0\\LocalCache\\local-packages\\Python310\\site-packages\\sklearn\\linear_model\\_logistic.py\", line 55, in _check_solver\n",
      "    raise ValueError(\n",
      "ValueError: Logistic Regression supports only penalties in ['l1', 'l2', 'elasticnet', 'none'], got l1,l2.\n",
      "\n",
      "  warnings.warn(some_fits_failed_message, FitFailedWarning)\n",
      "C:\\Users\\chuce\\AppData\\Local\\Packages\\PythonSoftwareFoundation.Python.3.10_qbz5n2kfra8p0\\LocalCache\\local-packages\\Python310\\site-packages\\sklearn\\model_selection\\_search.py:953: UserWarning: One or more of the test scores are non-finite: [       nan 0.90353253 0.9819597  0.99743105 0.99963343 1.\n",
      " 1.        ]\n",
      "  warnings.warn(\n",
      "C:\\Users\\chuce\\AppData\\Local\\Packages\\PythonSoftwareFoundation.Python.3.10_qbz5n2kfra8p0\\LocalCache\\local-packages\\Python310\\site-packages\\sklearn\\linear_model\\_logistic.py:444: ConvergenceWarning: lbfgs failed to converge (status=1):\n",
      "STOP: TOTAL NO. of ITERATIONS REACHED LIMIT.\n",
      "\n",
      "Increase the number of iterations (max_iter) or scale the data as shown in:\n",
      "    https://scikit-learn.org/stable/modules/preprocessing.html\n",
      "Please also refer to the documentation for alternative solver options:\n",
      "    https://scikit-learn.org/stable/modules/linear_model.html#logistic-regression\n",
      "  n_iter_i = _check_optimize_result(\n"
     ]
    },
    {
     "data": {
      "image/png": "[encoded data removed]",
      "text/plain": [
       "<Figure size 432x288 with 2 Axes>"
      ]
     },
     "metadata": {
      "needs_background": "light"
     },
     "output_type": "display_data"
    },
    {
     "data": {
      "text/plain": [
       "(model        logreg\n",
       " accuracy        1.0\n",
       " precision       1.0\n",
       " recall          1.0\n",
       " f1_score        1.0\n",
       " dtype: object,\n",
       " None)"
      ]
     },
     "execution_count": 92,
     "metadata": {},
     "output_type": "execute_result"
    }
   ],
   "source": [
    "model_results(X_train, X_test, y_train, y_test, 'logreg')"
   ]
  },
  {
   "cell_type": "markdown",
   "id": "a00067f9",
   "metadata": {},
   "source": [
    "## Discussion"
   ]
  },
  {
   "cell_type": "markdown",
   "id": "92dc0641",
   "metadata": {},
   "source": [
    "All four classification models returned 100% accuracy. This could be due to the varous reasons:\n",
    "\n",
    "* The data was completely binary after performing OneHotEncoding\n",
    "* Since the data was binary in nature, there were no outliers to contend with\n",
    "* The models were overfitted to the training set\n",
    "\n",
    "Each model was tuned using cross validation, which mitigated the risk of over fitting. So it is possible that the bibary nature of the data allowed each model to accuarately classify each type of mushroom.\n",
    "\n"
   ]
  },
  {
   "cell_type": "markdown",
   "id": "f5ab02dc",
   "metadata": {},
   "source": [
    "## Conclusion\n",
    "\n",
    "After building classification models, each model returned 100% accuracy so any of the four models can be used. With that said, the logistic regression performed the fastest; returning results in the least amount of time. Under time sensitive circumstances, the logistic regression model would be the most suited."
   ]
  },
  {
   "cell_type": "code",
   "execution_count": null,
   "id": "656fccdd",
   "metadata": {},
   "outputs": [],
   "source": []
  }
 ],
 "metadata": {
  "kernelspec": {
   "display_name": "Python 3 (ipykernel)",
   "language": "python",
   "name": "python3"
  },
  "language_info": {
   "codemirror_mode": {
    "name": "ipython",
    "version": 3
   },
   "file_extension": ".py",
   "mimetype": "text/x-python",
   "name": "python",
   "nbconvert_exporter": "python",
   "pygments_lexer": "ipython3",
   "version": "3.10.4"
  }
 },
 "nbformat": 4,
 "nbformat_minor": 5
}
