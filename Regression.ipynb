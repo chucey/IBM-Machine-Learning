{
 "cells": [
  {
   "cell_type": "markdown",
   "id": "ebc1c168-f598-4321-9570-2382e93238fe",
   "metadata": {},
   "source": [
    "# Machie Learning: Regression"
   ]
  },
  {
   "cell_type": "markdown",
   "id": "9343c709-431d-4248-8b43-6ece797315ce",
   "metadata": {},
   "source": [
    "This notebook highlights the steps taken to build a regression model as part of the IBM Machine Learning Professional Certificate."
   ]
  },
  {
   "cell_type": "markdown",
   "id": "c01b2f70-01f8-44b1-821a-fd932dc47571",
   "metadata": {},
   "source": [
    "The dataset used will be the Ford Car Price Dataset. This dataset was obtained from Kaggle. Please <a href=\"https://www.kaggle.com/datasets/adhurimquku/ford-car-price-prediction\"> click here</a> to access the full dataset Subsequently, this dataset will be used to create several regression models that will be compared. It is important to note that these models were built to predict the price of a ford vehicle."
   ]
  },
  {
   "cell_type": "markdown",
   "id": "ad306ceb-5586-434e-82d3-2369c4236db4",
   "metadata": {},
   "source": [
    "## Data Attributes"
   ]
  },
  {
   "cell_type": "markdown",
   "id": "8a5be416-db49-485f-a027-ba6ccee7c288",
   "metadata": {},
   "source": [
    "Attribute Information:\n",
    "1. model - Ford Car Brands\n",
    "2. year - Production Year\n",
    "3. price - Price of car in $\n",
    "4. transmission - Automatic,Manual, Semi-Auto\n",
    "5. mileage - Number of miles traveled\n",
    "6. fuel_Type - Petrol,Diesel,Hybrid,Electric,Other\n",
    "7. tax - Annual Tax\n",
    "8. mpg - Miles per Gallon\n",
    "9. engineSize - Car's Engine Size"
   ]
  },
  {
   "cell_type": "code",
   "execution_count": 1,
   "id": "ed03250c-9cec-4332-b84a-8adbe98c97b7",
   "metadata": {},
   "outputs": [
    {
     "name": "stdout",
     "output_type": "stream",
     "text": [
      "Requirement already satisfied: seaborn in c:\\users\\chuce\\appdata\\local\\packages\\pythonsoftwarefoundation.python.3.10_qbz5n2kfra8p0\\localcache\\local-packages\\python310\\site-packages (0.11.2)\n",
      "Requirement already satisfied: scipy>=1.0 in c:\\users\\chuce\\appdata\\local\\packages\\pythonsoftwarefoundation.python.3.10_qbz5n2kfra8p0\\localcache\\local-packages\\python310\\site-packages (from seaborn) (1.8.0)\n",
      "Requirement already satisfied: pandas>=0.23 in c:\\users\\chuce\\appdata\\local\\packages\\pythonsoftwarefoundation.python.3.10_qbz5n2kfra8p0\\localcache\\local-packages\\python310\\site-packages (from seaborn) (1.4.2)\n",
      "Requirement already satisfied: matplotlib>=2.2 in c:\\users\\chuce\\appdata\\local\\packages\\pythonsoftwarefoundation.python.3.10_qbz5n2kfra8p0\\localcache\\local-packages\\python310\\site-packages (from seaborn) (3.5.2)\n",
      "Requirement already satisfied: numpy>=1.15 in c:\\users\\chuce\\appdata\\local\\packages\\pythonsoftwarefoundation.python.3.10_qbz5n2kfra8p0\\localcache\\local-packages\\python310\\site-packages (from seaborn) (1.22.3)\n",
      "Requirement already satisfied: pillow>=6.2.0 in c:\\users\\chuce\\appdata\\local\\packages\\pythonsoftwarefoundation.python.3.10_qbz5n2kfra8p0\\localcache\\local-packages\\python310\\site-packages (from matplotlib>=2.2->seaborn) (9.1.0)\n",
      "Requirement already satisfied: python-dateutil>=2.7 in c:\\users\\chuce\\appdata\\local\\packages\\pythonsoftwarefoundation.python.3.10_qbz5n2kfra8p0\\localcache\\local-packages\\python310\\site-packages (from matplotlib>=2.2->seaborn) (2.8.2)\n",
      "Requirement already satisfied: pyparsing>=2.2.1 in c:\\users\\chuce\\appdata\\local\\packages\\pythonsoftwarefoundation.python.3.10_qbz5n2kfra8p0\\localcache\\local-packages\\python310\\site-packages (from matplotlib>=2.2->seaborn) (3.0.9)\n",
      "Requirement already satisfied: cycler>=0.10 in c:\\users\\chuce\\appdata\\local\\packages\\pythonsoftwarefoundation.python.3.10_qbz5n2kfra8p0\\localcache\\local-packages\\python310\\site-packages (from matplotlib>=2.2->seaborn) (0.11.0)\n",
      "Requirement already satisfied: kiwisolver>=1.0.1 in c:\\users\\chuce\\appdata\\local\\packages\\pythonsoftwarefoundation.python.3.10_qbz5n2kfra8p0\\localcache\\local-packages\\python310\\site-packages (from matplotlib>=2.2->seaborn) (1.4.2)\n",
      "Requirement already satisfied: fonttools>=4.22.0 in c:\\users\\chuce\\appdata\\local\\packages\\pythonsoftwarefoundation.python.3.10_qbz5n2kfra8p0\\localcache\\local-packages\\python310\\site-packages (from matplotlib>=2.2->seaborn) (4.33.3)\n",
      "Requirement already satisfied: packaging>=20.0 in c:\\users\\chuce\\appdata\\local\\packages\\pythonsoftwarefoundation.python.3.10_qbz5n2kfra8p0\\localcache\\local-packages\\python310\\site-packages (from matplotlib>=2.2->seaborn) (21.3)\n",
      "Requirement already satisfied: pytz>=2020.1 in c:\\users\\chuce\\appdata\\local\\packages\\pythonsoftwarefoundation.python.3.10_qbz5n2kfra8p0\\localcache\\local-packages\\python310\\site-packages (from pandas>=0.23->seaborn) (2022.1)\n",
      "Requirement already satisfied: six>=1.5 in c:\\users\\chuce\\appdata\\local\\packages\\pythonsoftwarefoundation.python.3.10_qbz5n2kfra8p0\\localcache\\local-packages\\python310\\site-packages (from python-dateutil>=2.7->matplotlib>=2.2->seaborn) (1.16.0)\n"
     ]
    },
    {
     "name": "stderr",
     "output_type": "stream",
     "text": [
      "WARNING: You are using pip version 22.0.4; however, version 22.1 is available.\n",
      "You should consider upgrading via the 'C:\\Users\\chuce\\AppData\\Local\\Microsoft\\WindowsApps\\PythonSoftwareFoundation.Python.3.10_qbz5n2kfra8p0\\python.exe -m pip install --upgrade pip' command.\n"
     ]
    }
   ],
   "source": [
    "!pip install seaborn"
   ]
  },
  {
   "cell_type": "code",
   "execution_count": 3,
   "id": "2a393128-4784-41c3-bfe0-d9856d5fabf7",
   "metadata": {},
   "outputs": [],
   "source": [
    "# import libraries\n",
    "import pandas as pd\n",
    "import numpy as np\n",
    "import matplotlib.pyplot as plt\n",
    "import seaborn as sns\n",
    "%matplotlib inline "
   ]
  },
  {
   "cell_type": "code",
   "execution_count": 4,
   "id": "4ccc64d4-58cb-4894-af79-5f253a2394df",
   "metadata": {},
   "outputs": [
    {
     "data": {
      "text/html": [
       "<div>\n",
       "<style scoped>\n",
       "    .dataframe tbody tr th:only-of-type {\n",
       "        vertical-align: middle;\n",
       "    }\n",
       "\n",
       "    .dataframe tbody tr th {\n",
       "        vertical-align: top;\n",
       "    }\n",
       "\n",
       "    .dataframe thead th {\n",
       "        text-align: right;\n",
       "    }\n",
       "</style>\n",
       "<table border=\"1\" class=\"dataframe\">\n",
       "  <thead>\n",
       "    <tr style=\"text-align: right;\">\n",
       "      <th></th>\n",
       "      <th>model</th>\n",
       "      <th>year</th>\n",
       "      <th>price</th>\n",
       "      <th>transmission</th>\n",
       "      <th>mileage</th>\n",
       "      <th>fuelType</th>\n",
       "      <th>tax</th>\n",
       "      <th>mpg</th>\n",
       "      <th>engineSize</th>\n",
       "    </tr>\n",
       "  </thead>\n",
       "  <tbody>\n",
       "    <tr>\n",
       "      <th>0</th>\n",
       "      <td>Fiesta</td>\n",
       "      <td>2017</td>\n",
       "      <td>12000</td>\n",
       "      <td>Automatic</td>\n",
       "      <td>15944</td>\n",
       "      <td>Petrol</td>\n",
       "      <td>150</td>\n",
       "      <td>57.7</td>\n",
       "      <td>1.0</td>\n",
       "    </tr>\n",
       "    <tr>\n",
       "      <th>1</th>\n",
       "      <td>Focus</td>\n",
       "      <td>2018</td>\n",
       "      <td>14000</td>\n",
       "      <td>Manual</td>\n",
       "      <td>9083</td>\n",
       "      <td>Petrol</td>\n",
       "      <td>150</td>\n",
       "      <td>57.7</td>\n",
       "      <td>1.0</td>\n",
       "    </tr>\n",
       "    <tr>\n",
       "      <th>2</th>\n",
       "      <td>Focus</td>\n",
       "      <td>2017</td>\n",
       "      <td>13000</td>\n",
       "      <td>Manual</td>\n",
       "      <td>12456</td>\n",
       "      <td>Petrol</td>\n",
       "      <td>150</td>\n",
       "      <td>57.7</td>\n",
       "      <td>1.0</td>\n",
       "    </tr>\n",
       "    <tr>\n",
       "      <th>3</th>\n",
       "      <td>Fiesta</td>\n",
       "      <td>2019</td>\n",
       "      <td>17500</td>\n",
       "      <td>Manual</td>\n",
       "      <td>10460</td>\n",
       "      <td>Petrol</td>\n",
       "      <td>145</td>\n",
       "      <td>40.3</td>\n",
       "      <td>1.5</td>\n",
       "    </tr>\n",
       "    <tr>\n",
       "      <th>4</th>\n",
       "      <td>Fiesta</td>\n",
       "      <td>2019</td>\n",
       "      <td>16500</td>\n",
       "      <td>Automatic</td>\n",
       "      <td>1482</td>\n",
       "      <td>Petrol</td>\n",
       "      <td>145</td>\n",
       "      <td>48.7</td>\n",
       "      <td>1.0</td>\n",
       "    </tr>\n",
       "  </tbody>\n",
       "</table>\n",
       "</div>"
      ],
      "text/plain": [
       "     model  year  price transmission  mileage fuelType  tax   mpg  engineSize\n",
       "0   Fiesta  2017  12000    Automatic    15944   Petrol  150  57.7         1.0\n",
       "1    Focus  2018  14000       Manual     9083   Petrol  150  57.7         1.0\n",
       "2    Focus  2017  13000       Manual    12456   Petrol  150  57.7         1.0\n",
       "3   Fiesta  2019  17500       Manual    10460   Petrol  145  40.3         1.5\n",
       "4   Fiesta  2019  16500    Automatic     1482   Petrol  145  48.7         1.0"
      ]
     },
     "execution_count": 4,
     "metadata": {},
     "output_type": "execute_result"
    }
   ],
   "source": [
    "# load the data\n",
    "file = open('ford.csv')\n",
    "data = pd.read_csv(file)\n",
    "data.head()"
   ]
  },
  {
   "cell_type": "markdown",
   "id": "e22d1f3e-bb0c-4d55-a252-73570fe9f6f7",
   "metadata": {},
   "source": [
    "## Exploratory Data Analysis"
   ]
  },
  {
   "cell_type": "code",
   "execution_count": 5,
   "id": "06997c87-e2fc-4942-8710-c28ecb1de331",
   "metadata": {},
   "outputs": [
    {
     "data": {
      "text/plain": [
       "(17966, 9)"
      ]
     },
     "execution_count": 5,
     "metadata": {},
     "output_type": "execute_result"
    }
   ],
   "source": [
    "data.shape"
   ]
  },
  {
   "cell_type": "code",
   "execution_count": 6,
   "id": "1b20614f-862c-4598-badc-6235a0ab1908",
   "metadata": {},
   "outputs": [
    {
     "data": {
      "text/plain": [
       "Index(['model', 'year', 'price', 'transmission', 'mileage', 'fuelType', 'tax',\n",
       "       'mpg', 'engineSize'],\n",
       "      dtype='object')"
      ]
     },
     "execution_count": 6,
     "metadata": {},
     "output_type": "execute_result"
    }
   ],
   "source": [
    "# list the columns\n",
    "data.columns"
   ]
  },
  {
   "cell_type": "code",
   "execution_count": 7,
   "id": "9c67fda8-a57c-41fd-9a2b-39e44d24df9e",
   "metadata": {},
   "outputs": [
    {
     "data": {
      "text/plain": [
       "model            object\n",
       "year              int64\n",
       "price             int64\n",
       "transmission     object\n",
       "mileage           int64\n",
       "fuelType         object\n",
       "tax               int64\n",
       "mpg             float64\n",
       "engineSize      float64\n",
       "dtype: object"
      ]
     },
     "execution_count": 7,
     "metadata": {},
     "output_type": "execute_result"
    }
   ],
   "source": [
    "# determine data types\n",
    "data.dtypes"
   ]
  },
  {
   "cell_type": "code",
   "execution_count": 8,
   "id": "2ef573a1-485d-4e6e-a98b-bb5db1a08d59",
   "metadata": {},
   "outputs": [
    {
     "data": {
      "text/html": [
       "<div>\n",
       "<style scoped>\n",
       "    .dataframe tbody tr th:only-of-type {\n",
       "        vertical-align: middle;\n",
       "    }\n",
       "\n",
       "    .dataframe tbody tr th {\n",
       "        vertical-align: top;\n",
       "    }\n",
       "\n",
       "    .dataframe thead th {\n",
       "        text-align: right;\n",
       "    }\n",
       "</style>\n",
       "<table border=\"1\" class=\"dataframe\">\n",
       "  <thead>\n",
       "    <tr style=\"text-align: right;\">\n",
       "      <th></th>\n",
       "      <th>year</th>\n",
       "      <th>price</th>\n",
       "      <th>mileage</th>\n",
       "      <th>tax</th>\n",
       "      <th>mpg</th>\n",
       "      <th>engineSize</th>\n",
       "    </tr>\n",
       "  </thead>\n",
       "  <tbody>\n",
       "    <tr>\n",
       "      <th>count</th>\n",
       "      <td>17966.000000</td>\n",
       "      <td>17966.000000</td>\n",
       "      <td>17966.000000</td>\n",
       "      <td>17966.000000</td>\n",
       "      <td>17966.000000</td>\n",
       "      <td>17966.000000</td>\n",
       "    </tr>\n",
       "    <tr>\n",
       "      <th>mean</th>\n",
       "      <td>2016.866470</td>\n",
       "      <td>12279.534844</td>\n",
       "      <td>23362.608761</td>\n",
       "      <td>113.329456</td>\n",
       "      <td>57.906980</td>\n",
       "      <td>1.350807</td>\n",
       "    </tr>\n",
       "    <tr>\n",
       "      <th>std</th>\n",
       "      <td>2.050336</td>\n",
       "      <td>4741.343657</td>\n",
       "      <td>19472.054349</td>\n",
       "      <td>62.012456</td>\n",
       "      <td>10.125696</td>\n",
       "      <td>0.432367</td>\n",
       "    </tr>\n",
       "    <tr>\n",
       "      <th>min</th>\n",
       "      <td>1996.000000</td>\n",
       "      <td>495.000000</td>\n",
       "      <td>1.000000</td>\n",
       "      <td>0.000000</td>\n",
       "      <td>20.800000</td>\n",
       "      <td>0.000000</td>\n",
       "    </tr>\n",
       "    <tr>\n",
       "      <th>25%</th>\n",
       "      <td>2016.000000</td>\n",
       "      <td>8999.000000</td>\n",
       "      <td>9987.000000</td>\n",
       "      <td>30.000000</td>\n",
       "      <td>52.300000</td>\n",
       "      <td>1.000000</td>\n",
       "    </tr>\n",
       "    <tr>\n",
       "      <th>50%</th>\n",
       "      <td>2017.000000</td>\n",
       "      <td>11291.000000</td>\n",
       "      <td>18242.500000</td>\n",
       "      <td>145.000000</td>\n",
       "      <td>58.900000</td>\n",
       "      <td>1.200000</td>\n",
       "    </tr>\n",
       "    <tr>\n",
       "      <th>75%</th>\n",
       "      <td>2018.000000</td>\n",
       "      <td>15299.000000</td>\n",
       "      <td>31060.000000</td>\n",
       "      <td>145.000000</td>\n",
       "      <td>65.700000</td>\n",
       "      <td>1.500000</td>\n",
       "    </tr>\n",
       "    <tr>\n",
       "      <th>max</th>\n",
       "      <td>2060.000000</td>\n",
       "      <td>54995.000000</td>\n",
       "      <td>177644.000000</td>\n",
       "      <td>580.000000</td>\n",
       "      <td>201.800000</td>\n",
       "      <td>5.000000</td>\n",
       "    </tr>\n",
       "  </tbody>\n",
       "</table>\n",
       "</div>"
      ],
      "text/plain": [
       "               year         price        mileage           tax           mpg  \\\n",
       "count  17966.000000  17966.000000   17966.000000  17966.000000  17966.000000   \n",
       "mean    2016.866470  12279.534844   23362.608761    113.329456     57.906980   \n",
       "std        2.050336   4741.343657   19472.054349     62.012456     10.125696   \n",
       "min     1996.000000    495.000000       1.000000      0.000000     20.800000   \n",
       "25%     2016.000000   8999.000000    9987.000000     30.000000     52.300000   \n",
       "50%     2017.000000  11291.000000   18242.500000    145.000000     58.900000   \n",
       "75%     2018.000000  15299.000000   31060.000000    145.000000     65.700000   \n",
       "max     2060.000000  54995.000000  177644.000000    580.000000    201.800000   \n",
       "\n",
       "         engineSize  \n",
       "count  17966.000000  \n",
       "mean       1.350807  \n",
       "std        0.432367  \n",
       "min        0.000000  \n",
       "25%        1.000000  \n",
       "50%        1.200000  \n",
       "75%        1.500000  \n",
       "max        5.000000  "
      ]
     },
     "execution_count": 8,
     "metadata": {},
     "output_type": "execute_result"
    }
   ],
   "source": [
    "data.describe()"
   ]
  },
  {
   "cell_type": "code",
   "execution_count": 9,
   "id": "3374bbee-4770-415a-ad38-67d9b09f0f90",
   "metadata": {},
   "outputs": [
    {
     "data": {
      "text/html": [
       "<div>\n",
       "<style scoped>\n",
       "    .dataframe tbody tr th:only-of-type {\n",
       "        vertical-align: middle;\n",
       "    }\n",
       "\n",
       "    .dataframe tbody tr th {\n",
       "        vertical-align: top;\n",
       "    }\n",
       "\n",
       "    .dataframe thead th {\n",
       "        text-align: right;\n",
       "    }\n",
       "</style>\n",
       "<table border=\"1\" class=\"dataframe\">\n",
       "  <thead>\n",
       "    <tr style=\"text-align: right;\">\n",
       "      <th></th>\n",
       "      <th>model</th>\n",
       "      <th>year</th>\n",
       "      <th>price</th>\n",
       "      <th>transmission</th>\n",
       "      <th>mileage</th>\n",
       "      <th>fuelType</th>\n",
       "      <th>tax</th>\n",
       "      <th>mpg</th>\n",
       "      <th>engineSize</th>\n",
       "    </tr>\n",
       "  </thead>\n",
       "  <tbody>\n",
       "    <tr>\n",
       "      <th>count</th>\n",
       "      <td>17966</td>\n",
       "      <td>17966.000000</td>\n",
       "      <td>17966.000000</td>\n",
       "      <td>17966</td>\n",
       "      <td>17966.000000</td>\n",
       "      <td>17966</td>\n",
       "      <td>17966.000000</td>\n",
       "      <td>17966.000000</td>\n",
       "      <td>17966.000000</td>\n",
       "    </tr>\n",
       "    <tr>\n",
       "      <th>unique</th>\n",
       "      <td>24</td>\n",
       "      <td>NaN</td>\n",
       "      <td>NaN</td>\n",
       "      <td>3</td>\n",
       "      <td>NaN</td>\n",
       "      <td>5</td>\n",
       "      <td>NaN</td>\n",
       "      <td>NaN</td>\n",
       "      <td>NaN</td>\n",
       "    </tr>\n",
       "    <tr>\n",
       "      <th>top</th>\n",
       "      <td>Fiesta</td>\n",
       "      <td>NaN</td>\n",
       "      <td>NaN</td>\n",
       "      <td>Manual</td>\n",
       "      <td>NaN</td>\n",
       "      <td>Petrol</td>\n",
       "      <td>NaN</td>\n",
       "      <td>NaN</td>\n",
       "      <td>NaN</td>\n",
       "    </tr>\n",
       "    <tr>\n",
       "      <th>freq</th>\n",
       "      <td>6557</td>\n",
       "      <td>NaN</td>\n",
       "      <td>NaN</td>\n",
       "      <td>15518</td>\n",
       "      <td>NaN</td>\n",
       "      <td>12179</td>\n",
       "      <td>NaN</td>\n",
       "      <td>NaN</td>\n",
       "      <td>NaN</td>\n",
       "    </tr>\n",
       "    <tr>\n",
       "      <th>mean</th>\n",
       "      <td>NaN</td>\n",
       "      <td>2016.866470</td>\n",
       "      <td>12279.534844</td>\n",
       "      <td>NaN</td>\n",
       "      <td>23362.608761</td>\n",
       "      <td>NaN</td>\n",
       "      <td>113.329456</td>\n",
       "      <td>57.906980</td>\n",
       "      <td>1.350807</td>\n",
       "    </tr>\n",
       "    <tr>\n",
       "      <th>std</th>\n",
       "      <td>NaN</td>\n",
       "      <td>2.050336</td>\n",
       "      <td>4741.343657</td>\n",
       "      <td>NaN</td>\n",
       "      <td>19472.054349</td>\n",
       "      <td>NaN</td>\n",
       "      <td>62.012456</td>\n",
       "      <td>10.125696</td>\n",
       "      <td>0.432367</td>\n",
       "    </tr>\n",
       "    <tr>\n",
       "      <th>min</th>\n",
       "      <td>NaN</td>\n",
       "      <td>1996.000000</td>\n",
       "      <td>495.000000</td>\n",
       "      <td>NaN</td>\n",
       "      <td>1.000000</td>\n",
       "      <td>NaN</td>\n",
       "      <td>0.000000</td>\n",
       "      <td>20.800000</td>\n",
       "      <td>0.000000</td>\n",
       "    </tr>\n",
       "    <tr>\n",
       "      <th>25%</th>\n",
       "      <td>NaN</td>\n",
       "      <td>2016.000000</td>\n",
       "      <td>8999.000000</td>\n",
       "      <td>NaN</td>\n",
       "      <td>9987.000000</td>\n",
       "      <td>NaN</td>\n",
       "      <td>30.000000</td>\n",
       "      <td>52.300000</td>\n",
       "      <td>1.000000</td>\n",
       "    </tr>\n",
       "    <tr>\n",
       "      <th>50%</th>\n",
       "      <td>NaN</td>\n",
       "      <td>2017.000000</td>\n",
       "      <td>11291.000000</td>\n",
       "      <td>NaN</td>\n",
       "      <td>18242.500000</td>\n",
       "      <td>NaN</td>\n",
       "      <td>145.000000</td>\n",
       "      <td>58.900000</td>\n",
       "      <td>1.200000</td>\n",
       "    </tr>\n",
       "    <tr>\n",
       "      <th>75%</th>\n",
       "      <td>NaN</td>\n",
       "      <td>2018.000000</td>\n",
       "      <td>15299.000000</td>\n",
       "      <td>NaN</td>\n",
       "      <td>31060.000000</td>\n",
       "      <td>NaN</td>\n",
       "      <td>145.000000</td>\n",
       "      <td>65.700000</td>\n",
       "      <td>1.500000</td>\n",
       "    </tr>\n",
       "    <tr>\n",
       "      <th>max</th>\n",
       "      <td>NaN</td>\n",
       "      <td>2060.000000</td>\n",
       "      <td>54995.000000</td>\n",
       "      <td>NaN</td>\n",
       "      <td>177644.000000</td>\n",
       "      <td>NaN</td>\n",
       "      <td>580.000000</td>\n",
       "      <td>201.800000</td>\n",
       "      <td>5.000000</td>\n",
       "    </tr>\n",
       "  </tbody>\n",
       "</table>\n",
       "</div>"
      ],
      "text/plain": [
       "          model          year         price transmission        mileage  \\\n",
       "count     17966  17966.000000  17966.000000        17966   17966.000000   \n",
       "unique       24           NaN           NaN            3            NaN   \n",
       "top      Fiesta           NaN           NaN       Manual            NaN   \n",
       "freq       6557           NaN           NaN        15518            NaN   \n",
       "mean        NaN   2016.866470  12279.534844          NaN   23362.608761   \n",
       "std         NaN      2.050336   4741.343657          NaN   19472.054349   \n",
       "min         NaN   1996.000000    495.000000          NaN       1.000000   \n",
       "25%         NaN   2016.000000   8999.000000          NaN    9987.000000   \n",
       "50%         NaN   2017.000000  11291.000000          NaN   18242.500000   \n",
       "75%         NaN   2018.000000  15299.000000          NaN   31060.000000   \n",
       "max         NaN   2060.000000  54995.000000          NaN  177644.000000   \n",
       "\n",
       "       fuelType           tax           mpg    engineSize  \n",
       "count     17966  17966.000000  17966.000000  17966.000000  \n",
       "unique        5           NaN           NaN           NaN  \n",
       "top      Petrol           NaN           NaN           NaN  \n",
       "freq      12179           NaN           NaN           NaN  \n",
       "mean        NaN    113.329456     57.906980      1.350807  \n",
       "std         NaN     62.012456     10.125696      0.432367  \n",
       "min         NaN      0.000000     20.800000      0.000000  \n",
       "25%         NaN     30.000000     52.300000      1.000000  \n",
       "50%         NaN    145.000000     58.900000      1.200000  \n",
       "75%         NaN    145.000000     65.700000      1.500000  \n",
       "max         NaN    580.000000    201.800000      5.000000  "
      ]
     },
     "execution_count": 9,
     "metadata": {},
     "output_type": "execute_result"
    }
   ],
   "source": [
    "data.describe(include = \"all\")"
   ]
  },
  {
   "cell_type": "code",
   "execution_count": 10,
   "id": "550c30b6-4bc8-479e-a766-550114813cbb",
   "metadata": {},
   "outputs": [
    {
     "data": {
      "text/plain": [
       "model           0\n",
       "year            0\n",
       "price           0\n",
       "transmission    0\n",
       "mileage         0\n",
       "fuelType        0\n",
       "tax             0\n",
       "mpg             0\n",
       "engineSize      0\n",
       "dtype: int64"
      ]
     },
     "execution_count": 10,
     "metadata": {},
     "output_type": "execute_result"
    }
   ],
   "source": [
    "# check for null values\n",
    "data.isnull().sum()"
   ]
  },
  {
   "cell_type": "markdown",
   "id": "fd685a42-e5cc-474d-babf-1e1d30559c2d",
   "metadata": {},
   "source": [
    "No null values present!"
   ]
  },
  {
   "cell_type": "code",
   "execution_count": 20,
   "id": "99cbb64e-10b6-40a9-b141-cf1ca9a8e167",
   "metadata": {},
   "outputs": [
    {
     "data": {
      "text/plain": [
       " Fiesta                   6557\n",
       " Focus                    4588\n",
       " Kuga                     2225\n",
       " EcoSport                 1143\n",
       " C-MAX                     543\n",
       " Ka+                       531\n",
       " Mondeo                    526\n",
       " B-MAX                     355\n",
       " S-MAX                     296\n",
       " Grand C-MAX               247\n",
       " Galaxy                    228\n",
       " Edge                      208\n",
       " KA                        199\n",
       " Puma                       80\n",
       " Tourneo Custom             69\n",
       " Grand Tourneo Connect      59\n",
       " Mustang                    57\n",
       " Tourneo Connect            33\n",
       " Fusion                     16\n",
       " Streetka                    2\n",
       " Ranger                      1\n",
       " Escort                      1\n",
       " Transit Tourneo             1\n",
       "Focus                        1\n",
       "Name: model, dtype: int64"
      ]
     },
     "execution_count": 20,
     "metadata": {},
     "output_type": "execute_result"
    }
   ],
   "source": [
    "# Counting unique values\n",
    "data['model'].value_counts()"
   ]
  },
  {
   "cell_type": "markdown",
   "id": "6f988a9c-02dd-4415-a8ee-bf2a098fab6f",
   "metadata": {},
   "source": [
    "There are whitespaces to the left of most of the entries in the 'model' column. We want to remove this extra space."
   ]
  },
  {
   "cell_type": "code",
   "execution_count": 44,
   "id": "0fe40a0e-9681-4468-b7ce-ee98d8089981",
   "metadata": {},
   "outputs": [
    {
     "data": {
      "text/plain": [
       "Fiesta                   6556\n",
       "Focus                    4589\n",
       "Kuga                     2225\n",
       "EcoSport                 1143\n",
       "C-MAX                     543\n",
       "Ka+                       531\n",
       "Mondeo                    525\n",
       "B-MAX                     355\n",
       "S-MAX                     296\n",
       "Grand C-MAX               247\n",
       "Galaxy                    228\n",
       "Edge                      208\n",
       "KA                        199\n",
       "Puma                       80\n",
       "Tourneo Custom             69\n",
       "Grand Tourneo Connect      59\n",
       "Mustang                    57\n",
       "Tourneo Connect            33\n",
       "Fusion                     16\n",
       "Streetka                    2\n",
       "Ranger                      1\n",
       "Escort                      1\n",
       "Transit Tourneo             1\n",
       "Name: model, dtype: int64"
      ]
     },
     "execution_count": 44,
     "metadata": {},
     "output_type": "execute_result"
    }
   ],
   "source": [
    "data['model'] = data['model'].str.strip()\n",
    "data['model'].value_counts()"
   ]
  },
  {
   "cell_type": "markdown",
   "id": "a6c6e146-eac0-4508-ba58-25459ea5e7b4",
   "metadata": {},
   "source": [
    "lovely!"
   ]
  },
  {
   "cell_type": "code",
   "execution_count": 21,
   "id": "8c334923-b85d-4470-b103-343fbfd6b151",
   "metadata": {},
   "outputs": [
    {
     "data": {
      "text/plain": [
       "Manual       15518\n",
       "Automatic     1361\n",
       "Semi-Auto     1087\n",
       "Name: transmission, dtype: int64"
      ]
     },
     "execution_count": 21,
     "metadata": {},
     "output_type": "execute_result"
    }
   ],
   "source": [
    "data['transmission'].value_counts()"
   ]
  },
  {
   "cell_type": "code",
   "execution_count": 22,
   "id": "0d8aa3c6-209a-469b-8cc3-9fba2238dcc8",
   "metadata": {},
   "outputs": [
    {
     "data": {
      "text/plain": [
       "Petrol      12179\n",
       "Diesel       5762\n",
       "Hybrid         22\n",
       "Electric        2\n",
       "Other           1\n",
       "Name: fuelType, dtype: int64"
      ]
     },
     "execution_count": 22,
     "metadata": {},
     "output_type": "execute_result"
    }
   ],
   "source": [
    "data['fuelType'].value_counts()"
   ]
  },
  {
   "cell_type": "code",
   "execution_count": 69,
   "id": "8a09e2ee-ff97-4b88-93c8-70d76224d810",
   "metadata": {},
   "outputs": [
    {
     "data": {
      "text/plain": [
       "1.0    7765\n",
       "1.5    3418\n",
       "2.0    3310\n",
       "1.2    1626\n",
       "1.6     923\n",
       "1.1     559\n",
       "1.4     111\n",
       "2.3      80\n",
       "0.0      51\n",
       "5.0      45\n",
       "1.8      35\n",
       "2.2      13\n",
       "2.5      13\n",
       "1.3      13\n",
       "3.2       1\n",
       "1.7       1\n",
       "Name: engineSize, dtype: int64"
      ]
     },
     "execution_count": 69,
     "metadata": {},
     "output_type": "execute_result"
    }
   ],
   "source": [
    "data['engineSize'].value_counts()"
   ]
  },
  {
   "cell_type": "code",
   "execution_count": 42,
   "id": "7c02b958-5ec2-4f11-a57a-832a8ed70960",
   "metadata": {},
   "outputs": [],
   "source": [
    "data.drop(data.index[(data[\"fuelType\"] == 'Other')],axis=0,inplace=True)"
   ]
  },
  {
   "cell_type": "code",
   "execution_count": 63,
   "id": "6e7a8030-b353-4635-879e-1bfad49a7b2e",
   "metadata": {},
   "outputs": [
    {
     "data": {
      "text/plain": [
       "2017    4888\n",
       "2018    4014\n",
       "2019    3194\n",
       "2016    2331\n",
       "2015    1368\n",
       "2014     805\n",
       "2013     609\n",
       "2020     258\n",
       "2012     115\n",
       "2011      94\n",
       "2009      91\n",
       "2010      67\n",
       "2008      57\n",
       "2007      32\n",
       "2005      16\n",
       "2006      13\n",
       "2004       4\n",
       "2002       3\n",
       "2003       3\n",
       "1998       1\n",
       "1996       1\n",
       "2000       1\n",
       "2060       1\n",
       "Name: year, dtype: int64"
      ]
     },
     "execution_count": 63,
     "metadata": {},
     "output_type": "execute_result"
    }
   ],
   "source": [
    "# counting model years\n",
    "data['year'].value_counts()"
   ]
  },
  {
   "cell_type": "code",
   "execution_count": 64,
   "id": "1b4935d7-1948-4e90-8fec-861ed14008ff",
   "metadata": {},
   "outputs": [
    {
     "data": {
      "text/plain": [
       "(17965, 9)"
      ]
     },
     "execution_count": 64,
     "metadata": {},
     "output_type": "execute_result"
    }
   ],
   "source": [
    "# remove the the row that has model year of 2060\n",
    "data.drop(data.index[(data[\"year\"] > 2021)],axis=0,inplace=True)\n",
    "data.shape"
   ]
  },
  {
   "cell_type": "code",
   "execution_count": 65,
   "id": "95664af2-bf5e-4a6c-ab0f-ed82b92b6d5d",
   "metadata": {},
   "outputs": [
    {
     "data": {
      "text/plain": [
       "model\n",
       "Mustang                  34631.26\n",
       "Edge                     22810.50\n",
       "Puma                     21447.25\n",
       "Tourneo Custom           21165.99\n",
       "Galaxy                   17841.87\n",
       "S-MAX                    17720.23\n",
       "Kuga                     15823.47\n",
       "Grand Tourneo Connect    14874.92\n",
       "Ranger                   14495.00\n",
       "Tourneo Connect          13805.82\n",
       "Focus                    13184.82\n",
       "EcoSport                 12499.27\n",
       "Transit Tourneo          12450.00\n",
       "Mondeo                   12302.86\n",
       "Grand C-MAX              10881.57\n",
       "Fiesta                   10196.86\n",
       "C-MAX                     9914.57\n",
       "Ka+                       8707.86\n",
       "B-MAX                     8287.53\n",
       "KA                        5186.13\n",
       "Escort                    3000.00\n",
       "Fusion                    2555.81\n",
       "Streetka                  1924.50\n",
       "Name: price, dtype: float64"
      ]
     },
     "execution_count": 65,
     "metadata": {},
     "output_type": "execute_result"
    }
   ],
   "source": [
    "data.groupby(data['model'])['price'].mean().round(2).sort_values(ascending=False)"
   ]
  },
  {
   "cell_type": "markdown",
   "id": "65468c20-3ea7-44b4-950c-a403aa08a31a",
   "metadata": {},
   "source": [
    "## Visualizing the data"
   ]
  },
  {
   "cell_type": "code",
   "execution_count": 32,
   "id": "b4b9cfc3-b8c0-4fa0-85e4-1af269492034",
   "metadata": {},
   "outputs": [
    {
     "data": {
      "text/plain": [
       "Text(0.5, 1.0, 'Mileage Counts')"
      ]
     },
     "execution_count": 32,
     "metadata": {},
     "output_type": "execute_result"
    },
    {
     "data": {
      "image/png": "[encoded data removed]",
      "text/plain": [
       "<Figure size 432x288 with 1 Axes>"
      ]
     },
     "metadata": {
      "needs_background": "light"
     },
     "output_type": "display_data"
    }
   ],
   "source": [
    "# showing the distribution of mileage\n",
    "plt.hist(data['mileage'])\n",
    "plt.xlabel('mileage')\n",
    "plt.ylabel('counts')\n",
    "plt.title('Mileage Counts')"
   ]
  },
  {
   "cell_type": "code",
   "execution_count": 34,
   "id": "f566cf32-b6ea-4331-8e7f-793419be301f",
   "metadata": {},
   "outputs": [
    {
     "data": {
      "image/png": "[encoded data removed]",
      "text/plain": [
       "<Figure size 432x288 with 1 Axes>"
      ]
     },
     "metadata": {
      "needs_background": "light"
     },
     "output_type": "display_data"
    }
   ],
   "source": [
    "# Comparing mileage to price\n",
    "sns.scatterplot(x='mileage', y='price', data=data)\n",
    "plt.xlabel('mileage')\n",
    "plt.ylabel('price')\n",
    "plt.title('mileage vs price')\n",
    "plt.show()"
   ]
  },
  {
   "cell_type": "code",
   "execution_count": 35,
   "id": "ab7b698a-b3b9-452d-98f6-64e4820ba4c1",
   "metadata": {},
   "outputs": [
    {
     "data": {
      "image/png": "[encoded data removed]",
      "text/plain": [
       "<Figure size 432x288 with 1 Axes>"
      ]
     },
     "metadata": {
      "needs_background": "light"
     },
     "output_type": "display_data"
    }
   ],
   "source": [
    "# Comparing mpg to price\n",
    "sns.scatterplot(x='mpg', y='price', data=data)\n",
    "plt.xlabel('mpg')\n",
    "plt.ylabel('price')\n",
    "plt.title('mpg vs price')\n",
    "plt.show()"
   ]
  },
  {
   "cell_type": "code",
   "execution_count": 36,
   "id": "a452bf43-9f22-4c06-9fcf-5117c5672636",
   "metadata": {},
   "outputs": [
    {
     "data": {
      "image/png": "[encoded data removed]",
      "text/plain": [
       "<Figure size 432x288 with 1 Axes>"
      ]
     },
     "metadata": {
      "needs_background": "light"
     },
     "output_type": "display_data"
    }
   ],
   "source": [
    "# Comparing transmission to price\n",
    "sns.boxplot(x='transmission', y='price', data=data)\n",
    "plt.xlabel('transmission')\n",
    "plt.ylabel('price')\n",
    "plt.title('transmission vs price')\n",
    "plt.show()"
   ]
  },
  {
   "cell_type": "code",
   "execution_count": 43,
   "id": "cef4bf63-313b-4753-b9ad-37ef4b7440a5",
   "metadata": {},
   "outputs": [
    {
     "data": {
      "image/png": "[encoded data removed]",
      "text/plain": [
       "<Figure size 432x288 with 1 Axes>"
      ]
     },
     "metadata": {
      "needs_background": "light"
     },
     "output_type": "display_data"
    }
   ],
   "source": [
    "# Comparing fuel type to price\n",
    "sns.boxplot(x='fuelType', y='price', data=data)\n",
    "plt.xlabel('fuelType')\n",
    "plt.ylabel('price')\n",
    "plt.title('fuelType vs price')\n",
    "plt.show()"
   ]
  },
  {
   "cell_type": "markdown",
   "id": "2b14b2a5-9ff4-4a85-9a42-b0bd1bfb2803",
   "metadata": {},
   "source": [
    "## One hot encoding\n",
    "We want to one hot encode the model, fuel type and transmission to prepare the data for use in a machine learning model."
   ]
  },
  {
   "cell_type": "code",
   "execution_count": 46,
   "id": "29bb8b67-383c-4e37-926f-22311b926037",
   "metadata": {},
   "outputs": [
    {
     "data": {
      "text/html": [
       "<div>\n",
       "<style scoped>\n",
       "    .dataframe tbody tr th:only-of-type {\n",
       "        vertical-align: middle;\n",
       "    }\n",
       "\n",
       "    .dataframe tbody tr th {\n",
       "        vertical-align: top;\n",
       "    }\n",
       "\n",
       "    .dataframe thead th {\n",
       "        text-align: right;\n",
       "    }\n",
       "</style>\n",
       "<table border=\"1\" class=\"dataframe\">\n",
       "  <thead>\n",
       "    <tr style=\"text-align: right;\">\n",
       "      <th></th>\n",
       "      <th>model_B-MAX</th>\n",
       "      <th>model_C-MAX</th>\n",
       "      <th>model_EcoSport</th>\n",
       "      <th>model_Edge</th>\n",
       "      <th>model_Escort</th>\n",
       "      <th>model_Fiesta</th>\n",
       "      <th>model_Focus</th>\n",
       "      <th>model_Fusion</th>\n",
       "      <th>model_Galaxy</th>\n",
       "      <th>model_Grand C-MAX</th>\n",
       "      <th>...</th>\n",
       "      <th>model_Kuga</th>\n",
       "      <th>model_Mondeo</th>\n",
       "      <th>model_Mustang</th>\n",
       "      <th>model_Puma</th>\n",
       "      <th>model_Ranger</th>\n",
       "      <th>model_S-MAX</th>\n",
       "      <th>model_Streetka</th>\n",
       "      <th>model_Tourneo Connect</th>\n",
       "      <th>model_Tourneo Custom</th>\n",
       "      <th>model_Transit Tourneo</th>\n",
       "    </tr>\n",
       "  </thead>\n",
       "  <tbody>\n",
       "    <tr>\n",
       "      <th>0</th>\n",
       "      <td>0</td>\n",
       "      <td>0</td>\n",
       "      <td>0</td>\n",
       "      <td>0</td>\n",
       "      <td>0</td>\n",
       "      <td>1</td>\n",
       "      <td>0</td>\n",
       "      <td>0</td>\n",
       "      <td>0</td>\n",
       "      <td>0</td>\n",
       "      <td>...</td>\n",
       "      <td>0</td>\n",
       "      <td>0</td>\n",
       "      <td>0</td>\n",
       "      <td>0</td>\n",
       "      <td>0</td>\n",
       "      <td>0</td>\n",
       "      <td>0</td>\n",
       "      <td>0</td>\n",
       "      <td>0</td>\n",
       "      <td>0</td>\n",
       "    </tr>\n",
       "    <tr>\n",
       "      <th>1</th>\n",
       "      <td>0</td>\n",
       "      <td>0</td>\n",
       "      <td>0</td>\n",
       "      <td>0</td>\n",
       "      <td>0</td>\n",
       "      <td>0</td>\n",
       "      <td>1</td>\n",
       "      <td>0</td>\n",
       "      <td>0</td>\n",
       "      <td>0</td>\n",
       "      <td>...</td>\n",
       "      <td>0</td>\n",
       "      <td>0</td>\n",
       "      <td>0</td>\n",
       "      <td>0</td>\n",
       "      <td>0</td>\n",
       "      <td>0</td>\n",
       "      <td>0</td>\n",
       "      <td>0</td>\n",
       "      <td>0</td>\n",
       "      <td>0</td>\n",
       "    </tr>\n",
       "    <tr>\n",
       "      <th>2</th>\n",
       "      <td>0</td>\n",
       "      <td>0</td>\n",
       "      <td>0</td>\n",
       "      <td>0</td>\n",
       "      <td>0</td>\n",
       "      <td>0</td>\n",
       "      <td>1</td>\n",
       "      <td>0</td>\n",
       "      <td>0</td>\n",
       "      <td>0</td>\n",
       "      <td>...</td>\n",
       "      <td>0</td>\n",
       "      <td>0</td>\n",
       "      <td>0</td>\n",
       "      <td>0</td>\n",
       "      <td>0</td>\n",
       "      <td>0</td>\n",
       "      <td>0</td>\n",
       "      <td>0</td>\n",
       "      <td>0</td>\n",
       "      <td>0</td>\n",
       "    </tr>\n",
       "    <tr>\n",
       "      <th>3</th>\n",
       "      <td>0</td>\n",
       "      <td>0</td>\n",
       "      <td>0</td>\n",
       "      <td>0</td>\n",
       "      <td>0</td>\n",
       "      <td>1</td>\n",
       "      <td>0</td>\n",
       "      <td>0</td>\n",
       "      <td>0</td>\n",
       "      <td>0</td>\n",
       "      <td>...</td>\n",
       "      <td>0</td>\n",
       "      <td>0</td>\n",
       "      <td>0</td>\n",
       "      <td>0</td>\n",
       "      <td>0</td>\n",
       "      <td>0</td>\n",
       "      <td>0</td>\n",
       "      <td>0</td>\n",
       "      <td>0</td>\n",
       "      <td>0</td>\n",
       "    </tr>\n",
       "    <tr>\n",
       "      <th>4</th>\n",
       "      <td>0</td>\n",
       "      <td>0</td>\n",
       "      <td>0</td>\n",
       "      <td>0</td>\n",
       "      <td>0</td>\n",
       "      <td>1</td>\n",
       "      <td>0</td>\n",
       "      <td>0</td>\n",
       "      <td>0</td>\n",
       "      <td>0</td>\n",
       "      <td>...</td>\n",
       "      <td>0</td>\n",
       "      <td>0</td>\n",
       "      <td>0</td>\n",
       "      <td>0</td>\n",
       "      <td>0</td>\n",
       "      <td>0</td>\n",
       "      <td>0</td>\n",
       "      <td>0</td>\n",
       "      <td>0</td>\n",
       "      <td>0</td>\n",
       "    </tr>\n",
       "  </tbody>\n",
       "</table>\n",
       "<p>5 rows × 23 columns</p>\n",
       "</div>"
      ],
      "text/plain": [
       "   model_B-MAX  model_C-MAX  model_EcoSport  model_Edge  model_Escort  \\\n",
       "0            0            0               0           0             0   \n",
       "1            0            0               0           0             0   \n",
       "2            0            0               0           0             0   \n",
       "3            0            0               0           0             0   \n",
       "4            0            0               0           0             0   \n",
       "\n",
       "   model_Fiesta  model_Focus  model_Fusion  model_Galaxy  model_Grand C-MAX  \\\n",
       "0             1            0             0             0                  0   \n",
       "1             0            1             0             0                  0   \n",
       "2             0            1             0             0                  0   \n",
       "3             1            0             0             0                  0   \n",
       "4             1            0             0             0                  0   \n",
       "\n",
       "   ...  model_Kuga  model_Mondeo  model_Mustang  model_Puma  model_Ranger  \\\n",
       "0  ...           0             0              0           0             0   \n",
       "1  ...           0             0              0           0             0   \n",
       "2  ...           0             0              0           0             0   \n",
       "3  ...           0             0              0           0             0   \n",
       "4  ...           0             0              0           0             0   \n",
       "\n",
       "   model_S-MAX  model_Streetka  model_Tourneo Connect  model_Tourneo Custom  \\\n",
       "0            0               0                      0                     0   \n",
       "1            0               0                      0                     0   \n",
       "2            0               0                      0                     0   \n",
       "3            0               0                      0                     0   \n",
       "4            0               0                      0                     0   \n",
       "\n",
       "   model_Transit Tourneo  \n",
       "0                      0  \n",
       "1                      0  \n",
       "2                      0  \n",
       "3                      0  \n",
       "4                      0  \n",
       "\n",
       "[5 rows x 23 columns]"
      ]
     },
     "execution_count": 46,
     "metadata": {},
     "output_type": "execute_result"
    }
   ],
   "source": [
    "dummy_mod = pd.get_dummies(data['model'], prefix='model')\n",
    "dummy_mod.head()"
   ]
  },
  {
   "cell_type": "code",
   "execution_count": 47,
   "id": "8b5520de-92de-4937-b466-ce0c0c5fbb55",
   "metadata": {},
   "outputs": [
    {
     "data": {
      "text/html": [
       "<div>\n",
       "<style scoped>\n",
       "    .dataframe tbody tr th:only-of-type {\n",
       "        vertical-align: middle;\n",
       "    }\n",
       "\n",
       "    .dataframe tbody tr th {\n",
       "        vertical-align: top;\n",
       "    }\n",
       "\n",
       "    .dataframe thead th {\n",
       "        text-align: right;\n",
       "    }\n",
       "</style>\n",
       "<table border=\"1\" class=\"dataframe\">\n",
       "  <thead>\n",
       "    <tr style=\"text-align: right;\">\n",
       "      <th></th>\n",
       "      <th>model_Diesel</th>\n",
       "      <th>model_Electric</th>\n",
       "      <th>model_Hybrid</th>\n",
       "      <th>model_Petrol</th>\n",
       "    </tr>\n",
       "  </thead>\n",
       "  <tbody>\n",
       "    <tr>\n",
       "      <th>0</th>\n",
       "      <td>0</td>\n",
       "      <td>0</td>\n",
       "      <td>0</td>\n",
       "      <td>1</td>\n",
       "    </tr>\n",
       "    <tr>\n",
       "      <th>1</th>\n",
       "      <td>0</td>\n",
       "      <td>0</td>\n",
       "      <td>0</td>\n",
       "      <td>1</td>\n",
       "    </tr>\n",
       "    <tr>\n",
       "      <th>2</th>\n",
       "      <td>0</td>\n",
       "      <td>0</td>\n",
       "      <td>0</td>\n",
       "      <td>1</td>\n",
       "    </tr>\n",
       "    <tr>\n",
       "      <th>3</th>\n",
       "      <td>0</td>\n",
       "      <td>0</td>\n",
       "      <td>0</td>\n",
       "      <td>1</td>\n",
       "    </tr>\n",
       "    <tr>\n",
       "      <th>4</th>\n",
       "      <td>0</td>\n",
       "      <td>0</td>\n",
       "      <td>0</td>\n",
       "      <td>1</td>\n",
       "    </tr>\n",
       "  </tbody>\n",
       "</table>\n",
       "</div>"
      ],
      "text/plain": [
       "   model_Diesel  model_Electric  model_Hybrid  model_Petrol\n",
       "0             0               0             0             1\n",
       "1             0               0             0             1\n",
       "2             0               0             0             1\n",
       "3             0               0             0             1\n",
       "4             0               0             0             1"
      ]
     },
     "execution_count": 47,
     "metadata": {},
     "output_type": "execute_result"
    }
   ],
   "source": [
    "dummy_FT = pd.get_dummies(data['fuelType'], prefix='model')\n",
    "dummy_FT.head()"
   ]
  },
  {
   "cell_type": "code",
   "execution_count": 45,
   "id": "3474a6f3-9c10-4095-9b34-e2c4aaf664d0",
   "metadata": {},
   "outputs": [
    {
     "data": {
      "text/html": [
       "<div>\n",
       "<style scoped>\n",
       "    .dataframe tbody tr th:only-of-type {\n",
       "        vertical-align: middle;\n",
       "    }\n",
       "\n",
       "    .dataframe tbody tr th {\n",
       "        vertical-align: top;\n",
       "    }\n",
       "\n",
       "    .dataframe thead th {\n",
       "        text-align: right;\n",
       "    }\n",
       "</style>\n",
       "<table border=\"1\" class=\"dataframe\">\n",
       "  <thead>\n",
       "    <tr style=\"text-align: right;\">\n",
       "      <th></th>\n",
       "      <th>transmission_Automatic</th>\n",
       "      <th>transmission_Manual</th>\n",
       "      <th>transmission_Semi-Auto</th>\n",
       "    </tr>\n",
       "  </thead>\n",
       "  <tbody>\n",
       "    <tr>\n",
       "      <th>0</th>\n",
       "      <td>1</td>\n",
       "      <td>0</td>\n",
       "      <td>0</td>\n",
       "    </tr>\n",
       "    <tr>\n",
       "      <th>1</th>\n",
       "      <td>0</td>\n",
       "      <td>1</td>\n",
       "      <td>0</td>\n",
       "    </tr>\n",
       "    <tr>\n",
       "      <th>2</th>\n",
       "      <td>0</td>\n",
       "      <td>1</td>\n",
       "      <td>0</td>\n",
       "    </tr>\n",
       "    <tr>\n",
       "      <th>3</th>\n",
       "      <td>0</td>\n",
       "      <td>1</td>\n",
       "      <td>0</td>\n",
       "    </tr>\n",
       "    <tr>\n",
       "      <th>4</th>\n",
       "      <td>1</td>\n",
       "      <td>0</td>\n",
       "      <td>0</td>\n",
       "    </tr>\n",
       "  </tbody>\n",
       "</table>\n",
       "</div>"
      ],
      "text/plain": [
       "   transmission_Automatic  transmission_Manual  transmission_Semi-Auto\n",
       "0                       1                    0                       0\n",
       "1                       0                    1                       0\n",
       "2                       0                    1                       0\n",
       "3                       0                    1                       0\n",
       "4                       1                    0                       0"
      ]
     },
     "execution_count": 45,
     "metadata": {},
     "output_type": "execute_result"
    }
   ],
   "source": [
    "dummy_tr = pd.get_dummies(data['transmission'], prefix='transmission')\n",
    "dummy_tr.head()"
   ]
  },
  {
   "cell_type": "code",
   "execution_count": 67,
   "id": "3d859bab-f87d-4ab7-a78a-2d2bdaa26fe7",
   "metadata": {},
   "outputs": [
    {
     "data": {
      "text/html": [
       "<div>\n",
       "<style scoped>\n",
       "    .dataframe tbody tr th:only-of-type {\n",
       "        vertical-align: middle;\n",
       "    }\n",
       "\n",
       "    .dataframe tbody tr th {\n",
       "        vertical-align: top;\n",
       "    }\n",
       "\n",
       "    .dataframe thead th {\n",
       "        text-align: right;\n",
       "    }\n",
       "</style>\n",
       "<table border=\"1\" class=\"dataframe\">\n",
       "  <thead>\n",
       "    <tr style=\"text-align: right;\">\n",
       "      <th></th>\n",
       "      <th>model</th>\n",
       "      <th>year</th>\n",
       "      <th>price</th>\n",
       "      <th>transmission</th>\n",
       "      <th>mileage</th>\n",
       "      <th>fuelType</th>\n",
       "      <th>tax</th>\n",
       "      <th>mpg</th>\n",
       "      <th>engineSize</th>\n",
       "      <th>model_B-MAX</th>\n",
       "      <th>...</th>\n",
       "      <th>model_Tourneo Connect</th>\n",
       "      <th>model_Tourneo Custom</th>\n",
       "      <th>model_Transit Tourneo</th>\n",
       "      <th>transmission_Automatic</th>\n",
       "      <th>transmission_Manual</th>\n",
       "      <th>transmission_Semi-Auto</th>\n",
       "      <th>model_Diesel</th>\n",
       "      <th>model_Electric</th>\n",
       "      <th>model_Hybrid</th>\n",
       "      <th>model_Petrol</th>\n",
       "    </tr>\n",
       "  </thead>\n",
       "  <tbody>\n",
       "    <tr>\n",
       "      <th>0</th>\n",
       "      <td>Fiesta</td>\n",
       "      <td>2017</td>\n",
       "      <td>12000</td>\n",
       "      <td>Automatic</td>\n",
       "      <td>15944</td>\n",
       "      <td>Petrol</td>\n",
       "      <td>150</td>\n",
       "      <td>57.7</td>\n",
       "      <td>1.0</td>\n",
       "      <td>0</td>\n",
       "      <td>...</td>\n",
       "      <td>0</td>\n",
       "      <td>0</td>\n",
       "      <td>0</td>\n",
       "      <td>1</td>\n",
       "      <td>0</td>\n",
       "      <td>0</td>\n",
       "      <td>0</td>\n",
       "      <td>0</td>\n",
       "      <td>0</td>\n",
       "      <td>1</td>\n",
       "    </tr>\n",
       "    <tr>\n",
       "      <th>1</th>\n",
       "      <td>Focus</td>\n",
       "      <td>2018</td>\n",
       "      <td>14000</td>\n",
       "      <td>Manual</td>\n",
       "      <td>9083</td>\n",
       "      <td>Petrol</td>\n",
       "      <td>150</td>\n",
       "      <td>57.7</td>\n",
       "      <td>1.0</td>\n",
       "      <td>0</td>\n",
       "      <td>...</td>\n",
       "      <td>0</td>\n",
       "      <td>0</td>\n",
       "      <td>0</td>\n",
       "      <td>0</td>\n",
       "      <td>1</td>\n",
       "      <td>0</td>\n",
       "      <td>0</td>\n",
       "      <td>0</td>\n",
       "      <td>0</td>\n",
       "      <td>1</td>\n",
       "    </tr>\n",
       "    <tr>\n",
       "      <th>2</th>\n",
       "      <td>Focus</td>\n",
       "      <td>2017</td>\n",
       "      <td>13000</td>\n",
       "      <td>Manual</td>\n",
       "      <td>12456</td>\n",
       "      <td>Petrol</td>\n",
       "      <td>150</td>\n",
       "      <td>57.7</td>\n",
       "      <td>1.0</td>\n",
       "      <td>0</td>\n",
       "      <td>...</td>\n",
       "      <td>0</td>\n",
       "      <td>0</td>\n",
       "      <td>0</td>\n",
       "      <td>0</td>\n",
       "      <td>1</td>\n",
       "      <td>0</td>\n",
       "      <td>0</td>\n",
       "      <td>0</td>\n",
       "      <td>0</td>\n",
       "      <td>1</td>\n",
       "    </tr>\n",
       "    <tr>\n",
       "      <th>3</th>\n",
       "      <td>Fiesta</td>\n",
       "      <td>2019</td>\n",
       "      <td>17500</td>\n",
       "      <td>Manual</td>\n",
       "      <td>10460</td>\n",
       "      <td>Petrol</td>\n",
       "      <td>145</td>\n",
       "      <td>40.3</td>\n",
       "      <td>1.5</td>\n",
       "      <td>0</td>\n",
       "      <td>...</td>\n",
       "      <td>0</td>\n",
       "      <td>0</td>\n",
       "      <td>0</td>\n",
       "      <td>0</td>\n",
       "      <td>1</td>\n",
       "      <td>0</td>\n",
       "      <td>0</td>\n",
       "      <td>0</td>\n",
       "      <td>0</td>\n",
       "      <td>1</td>\n",
       "    </tr>\n",
       "    <tr>\n",
       "      <th>4</th>\n",
       "      <td>Fiesta</td>\n",
       "      <td>2019</td>\n",
       "      <td>16500</td>\n",
       "      <td>Automatic</td>\n",
       "      <td>1482</td>\n",
       "      <td>Petrol</td>\n",
       "      <td>145</td>\n",
       "      <td>48.7</td>\n",
       "      <td>1.0</td>\n",
       "      <td>0</td>\n",
       "      <td>...</td>\n",
       "      <td>0</td>\n",
       "      <td>0</td>\n",
       "      <td>0</td>\n",
       "      <td>1</td>\n",
       "      <td>0</td>\n",
       "      <td>0</td>\n",
       "      <td>0</td>\n",
       "      <td>0</td>\n",
       "      <td>0</td>\n",
       "      <td>1</td>\n",
       "    </tr>\n",
       "  </tbody>\n",
       "</table>\n",
       "<p>5 rows × 69 columns</p>\n",
       "</div>"
      ],
      "text/plain": [
       "    model  year  price transmission  mileage fuelType  tax   mpg  engineSize  \\\n",
       "0  Fiesta  2017  12000    Automatic    15944   Petrol  150  57.7         1.0   \n",
       "1   Focus  2018  14000       Manual     9083   Petrol  150  57.7         1.0   \n",
       "2   Focus  2017  13000       Manual    12456   Petrol  150  57.7         1.0   \n",
       "3  Fiesta  2019  17500       Manual    10460   Petrol  145  40.3         1.5   \n",
       "4  Fiesta  2019  16500    Automatic     1482   Petrol  145  48.7         1.0   \n",
       "\n",
       "   model_B-MAX  ...  model_Tourneo Connect  model_Tourneo Custom  \\\n",
       "0            0  ...                      0                     0   \n",
       "1            0  ...                      0                     0   \n",
       "2            0  ...                      0                     0   \n",
       "3            0  ...                      0                     0   \n",
       "4            0  ...                      0                     0   \n",
       "\n",
       "   model_Transit Tourneo  transmission_Automatic  transmission_Manual  \\\n",
       "0                      0                       1                    0   \n",
       "1                      0                       0                    1   \n",
       "2                      0                       0                    1   \n",
       "3                      0                       0                    1   \n",
       "4                      0                       1                    0   \n",
       "\n",
       "   transmission_Semi-Auto  model_Diesel  model_Electric  model_Hybrid  \\\n",
       "0                       0             0               0             0   \n",
       "1                       0             0               0             0   \n",
       "2                       0             0               0             0   \n",
       "3                       0             0               0             0   \n",
       "4                       0             0               0             0   \n",
       "\n",
       "   model_Petrol  \n",
       "0             1  \n",
       "1             1  \n",
       "2             1  \n",
       "3             1  \n",
       "4             1  \n",
       "\n",
       "[5 rows x 69 columns]"
      ]
     },
     "execution_count": 67,
     "metadata": {},
     "output_type": "execute_result"
    }
   ],
   "source": [
    "data = pd.concat([data, dummy_mod, dummy_tr, dummy_FT], axis=1)\n",
    "data.head()"
   ]
  },
  {
   "cell_type": "markdown",
   "id": "d83c689e-0c1d-424b-94ed-b212103fb64b",
   "metadata": {},
   "source": [
    "## Machine Learning"
   ]
  },
  {
   "cell_type": "markdown",
   "id": "ad504f2b-49a1-4893-a8a4-4b72eae5fe79",
   "metadata": {},
   "source": [
    "After completing the preprocessing phase, the following features were selected to build the regression models:\n",
    "\n",
    "* model\n",
    "* year\n",
    "* transmission\n",
    "* mileage\n",
    "* fuel type\n",
    "* mpg\n",
    "* engine size\n",
    "\n",
    "These features were used to predict the price of a Ford vehicle. The features were scaled and and then used to train the regression models.\n",
    "\n",
    "Several regression models were created with the features mentioned above. The first model was a multi variable linear regression model. This model was used as a baseline to gauge the accuracy of an untuned model. Furthermore, six ridge regression models were created with alpha values ranging from 0.001 – 100. These ridge regression models were used to determine how tuning a hyperparameter would improve the accuracy of the predictions."
   ]
  },
  {
   "cell_type": "code",
   "execution_count": 31,
   "id": "81e72bf3-c780-4f73-b803-3e80505a4e50",
   "metadata": {},
   "outputs": [],
   "source": [
    "# defining the features\n",
    "features = data.drop(['model','transmission','fuelType','tax', 'price'], axis=1)\n",
    "X = features\n",
    "\n",
    "# define the target variable\n",
    "target = data['price']\n",
    "Y = target"
   ]
  },
  {
   "cell_type": "code",
   "execution_count": null,
   "id": "80fb4e45",
   "metadata": {},
   "outputs": [],
   "source": []
  },
  {
   "cell_type": "code",
   "execution_count": 32,
   "id": "fe09e41d-9481-4a2d-a4da-21998713c76a",
   "metadata": {},
   "outputs": [
    {
     "data": {
      "text/plain": [
       "array([[ 0.06512772, -0.38099808, -0.02044162, -0.81138621],\n",
       "       [ 0.55286624, -0.73335899, -0.02044162, -0.81138621],\n",
       "       [ 0.06512772, -0.56013157, -0.02044162, -0.81138621],\n",
       "       [ 1.04060476, -0.6626403 , -1.73888989,  0.34507023],\n",
       "       [ 1.04060476, -1.12372415, -0.90929417, -0.81138621]])"
      ]
     },
     "execution_count": 32,
     "metadata": {},
     "output_type": "execute_result"
    }
   ],
   "source": [
    "# scalling the features\n",
    "from sklearn import preprocessing\n",
    "X = preprocessing.StandardScaler().fit(features).transform(features)\n",
    "X[0:5]"
   ]
  },
  {
   "cell_type": "code",
   "execution_count": 33,
   "id": "71fa5c68-9cee-4002-9cbb-ba893bc1974b",
   "metadata": {},
   "outputs": [],
   "source": [
    "# creating training and testing sets\n",
    "from sklearn.model_selection import train_test_split\n",
    "X_train, X_test, Y_train, Y_test = train_test_split( X, Y, test_size=0.2, random_state=4)"
   ]
  },
  {
   "cell_type": "code",
   "execution_count": 60,
   "id": "a997f93c",
   "metadata": {},
   "outputs": [
    {
     "data": {
      "text/html": [
       "<div>\n",
       "<style scoped>\n",
       "    .dataframe tbody tr th:only-of-type {\n",
       "        vertical-align: middle;\n",
       "    }\n",
       "\n",
       "    .dataframe tbody tr th {\n",
       "        vertical-align: top;\n",
       "    }\n",
       "\n",
       "    .dataframe thead th {\n",
       "        text-align: right;\n",
       "    }\n",
       "</style>\n",
       "<table border=\"1\" class=\"dataframe\">\n",
       "  <thead>\n",
       "    <tr style=\"text-align: right;\">\n",
       "      <th></th>\n",
       "      <th>reg models</th>\n",
       "      <th>scores</th>\n",
       "    </tr>\n",
       "  </thead>\n",
       "  <tbody>\n",
       "    <tr>\n",
       "      <th>0</th>\n",
       "      <td>no regularizatio</td>\n",
       "      <td>0.680410</td>\n",
       "    </tr>\n",
       "    <tr>\n",
       "      <th>1</th>\n",
       "      <td>RR with alpha of 0.001</td>\n",
       "      <td>0.680410</td>\n",
       "    </tr>\n",
       "    <tr>\n",
       "      <th>2</th>\n",
       "      <td>RR with alpha of 0.01</td>\n",
       "      <td>0.680410</td>\n",
       "    </tr>\n",
       "    <tr>\n",
       "      <th>3</th>\n",
       "      <td>RR with alpha of 0.1</td>\n",
       "      <td>0.680411</td>\n",
       "    </tr>\n",
       "    <tr>\n",
       "      <th>4</th>\n",
       "      <td>RR with alpha of 1</td>\n",
       "      <td>0.680419</td>\n",
       "    </tr>\n",
       "    <tr>\n",
       "      <th>5</th>\n",
       "      <td>RR with alpha of 10</td>\n",
       "      <td>0.680496</td>\n",
       "    </tr>\n",
       "    <tr>\n",
       "      <th>6</th>\n",
       "      <td>RR with alpha of 100</td>\n",
       "      <td>0.681225</td>\n",
       "    </tr>\n",
       "  </tbody>\n",
       "</table>\n",
       "</div>"
      ],
      "text/plain": [
       "               reg models    scores\n",
       "0        no regularizatio  0.680410\n",
       "1  RR with alpha of 0.001  0.680410\n",
       "2   RR with alpha of 0.01  0.680410\n",
       "3    RR with alpha of 0.1  0.680411\n",
       "4      RR with alpha of 1  0.680419\n",
       "5     RR with alpha of 10  0.680496\n",
       "6    RR with alpha of 100  0.681225"
      ]
     },
     "execution_count": 60,
     "metadata": {},
     "output_type": "execute_result"
    }
   ],
   "source": [
    "from sklearn.linear_model import LinearRegression\n",
    "from sklearn.metrics import r2_score\n",
    "from sklearn.linear_model import Ridge\n",
    "\n",
    "reg_model = []\n",
    "scores = []\n",
    "\n",
    "lr = LinearRegression()\n",
    "\n",
    "# no regularization\n",
    "lr = lr.fit(X_train, Y_train)\n",
    "y_pred = lr.predict(X_test)\n",
    "label = 'no regularizatio'\n",
    "reg_model.append(label)\n",
    "scores.append(r2_score(Y_test, y_pred))\n",
    "\n",
    "# using ridge\n",
    "alphas = [0.001, 0.01, 0.1, 1, 10, 100]\n",
    "for alpha in alphas:\n",
    "    rr = Ridge(alpha = alpha).fit(X_train, Y_train)\n",
    "    y_pred_rr = rr.predict(X_test)\n",
    "    label_rr = 'RR with alpha of '+ str(alpha)\n",
    "    reg_model.append(label_rr)\n",
    "    scores.append(r2_score(Y_test, y_pred_rr))\n",
    "    \n",
    "scores_df = pd.DataFrame({'reg models':reg_model, 'scores': scores})\n",
    "scores_df \n",
    "    "
   ]
  },
  {
   "cell_type": "markdown",
   "id": "a67e15f5",
   "metadata": {},
   "source": [
    "## Conclusion\n",
    "\n",
    "As this model was built for predictability, ridge regression was used as the regularization technique. As can be seen from the 'scores_df' dataframe, increasing alpha increases the accuracy of the model. \n",
    "\n",
    "Increasing the alpha value reduces the complexity of the model and improves the model's ability to predict unseen data.\n",
    "\n",
    "It is important to note that this model can be improved by:\n",
    "* Performing cross validation as doing this will make the model more statistically significant as errors are more generalized across multiple test sets\n",
    "\n",
    "* Using log transform to transform skewed distributions in the dataset to a normal distribution\n",
    "\n",
    "* Training the model with more data"
   ]
  },
  {
   "cell_type": "code",
   "execution_count": null,
   "id": "7a5d5ca4",
   "metadata": {},
   "outputs": [],
   "source": []
  }
 ],
 "metadata": {
  "kernelspec": {
   "display_name": "Python 3 (ipykernel)",
   "language": "python",
   "name": "python3"
  },
  "language_info": {
   "codemirror_mode": {
    "name": "ipython",
    "version": 3
   },
   "file_extension": ".py",
   "mimetype": "text/x-python",
   "name": "python",
   "nbconvert_exporter": "python",
   "pygments_lexer": "ipython3",
   "version": "3.10.4"
  }
 },
 "nbformat": 4,
 "nbformat_minor": 5
}
